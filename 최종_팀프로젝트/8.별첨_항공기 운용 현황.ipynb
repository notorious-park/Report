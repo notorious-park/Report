{
 "cells": [
  {
   "cell_type": "markdown",
   "id": "19064ac6",
   "metadata": {},
   "source": [
    "## 별첨) 항공기 운용 현황"
   ]
  },
  {
   "cell_type": "code",
   "execution_count": 37,
   "id": "ca92e200",
   "metadata": {},
   "outputs": [],
   "source": [
    "import matplotlib.pyplot as plt\n",
    "import pandas as pd\n",
    "import numpy as np\n",
    "import seaborn as sns\n",
    "sns.set()\n",
    "\n",
    "%matplotlib inline"
   ]
  },
  {
   "cell_type": "code",
   "execution_count": 38,
   "id": "aaf2db91",
   "metadata": {},
   "outputs": [],
   "source": [
    "filename = 'data/airports.xlsx'"
   ]
  },
  {
   "cell_type": "code",
   "execution_count": 40,
   "id": "f398caa1",
   "metadata": {},
   "outputs": [
    {
     "data": {
      "text/html": [
       "<div>\n",
       "<style scoped>\n",
       "    .dataframe tbody tr th:only-of-type {\n",
       "        vertical-align: middle;\n",
       "    }\n",
       "\n",
       "    .dataframe tbody tr th {\n",
       "        vertical-align: top;\n",
       "    }\n",
       "\n",
       "    .dataframe thead th {\n",
       "        text-align: right;\n",
       "    }\n",
       "</style>\n",
       "<table border=\"1\" class=\"dataframe\">\n",
       "  <thead>\n",
       "    <tr style=\"text-align: right;\">\n",
       "      <th></th>\n",
       "      <th>Unnamed: 0</th>\n",
       "      <th>Unnamed: 1</th>\n",
       "      <th>Unnamed: 2</th>\n",
       "      <th>시계열 통계</th>\n",
       "      <th>Unnamed: 4</th>\n",
       "      <th>Unnamed: 5</th>\n",
       "      <th>Unnamed: 6</th>\n",
       "      <th>Unnamed: 7</th>\n",
       "      <th>Unnamed: 8</th>\n",
       "      <th>Unnamed: 9</th>\n",
       "      <th>Unnamed: 10</th>\n",
       "      <th>Unnamed: 11</th>\n",
       "    </tr>\n",
       "  </thead>\n",
       "  <tbody>\n",
       "    <tr>\n",
       "      <th>0</th>\n",
       "      <td>NaN</td>\n",
       "      <td>NaN</td>\n",
       "      <td>NaN</td>\n",
       "      <td>NaN</td>\n",
       "      <td>NaN</td>\n",
       "      <td>NaN</td>\n",
       "      <td>NaN</td>\n",
       "      <td>NaN</td>\n",
       "      <td>NaN</td>\n",
       "      <td>NaN</td>\n",
       "      <td>NaN</td>\n",
       "      <td>NaN</td>\n",
       "    </tr>\n",
       "    <tr>\n",
       "      <th>1</th>\n",
       "      <td>검색 기간</td>\n",
       "      <td>2019.01~2022.12</td>\n",
       "      <td>NaN</td>\n",
       "      <td>NaN</td>\n",
       "      <td>NaN</td>\n",
       "      <td>NaN</td>\n",
       "      <td>NaN</td>\n",
       "      <td>NaN</td>\n",
       "      <td>NaN</td>\n",
       "      <td>NaN</td>\n",
       "      <td>NaN</td>\n",
       "      <td>NaN</td>\n",
       "    </tr>\n",
       "    <tr>\n",
       "      <th>2</th>\n",
       "      <td>공항 구분</td>\n",
       "      <td>전체</td>\n",
       "      <td>NaN</td>\n",
       "      <td>NaN</td>\n",
       "      <td>NaN</td>\n",
       "      <td>NaN</td>\n",
       "      <td>NaN</td>\n",
       "      <td>NaN</td>\n",
       "      <td>NaN</td>\n",
       "      <td>NaN</td>\n",
       "      <td>NaN</td>\n",
       "      <td>NaN</td>\n",
       "    </tr>\n",
       "    <tr>\n",
       "      <th>3</th>\n",
       "      <td>노선 구분</td>\n",
       "      <td>전체</td>\n",
       "      <td>운항 구분</td>\n",
       "      <td>전체</td>\n",
       "      <td>여객화물 구분</td>\n",
       "      <td>전체</td>\n",
       "      <td>여객 구분</td>\n",
       "      <td>전체</td>\n",
       "      <td>화물 구분</td>\n",
       "      <td>전체</td>\n",
       "      <td>연도/월 구분</td>\n",
       "      <td>전체</td>\n",
       "    </tr>\n",
       "    <tr>\n",
       "      <th>4</th>\n",
       "      <td>NaN</td>\n",
       "      <td>NaN</td>\n",
       "      <td>NaN</td>\n",
       "      <td>NaN</td>\n",
       "      <td>NaN</td>\n",
       "      <td>NaN</td>\n",
       "      <td>NaN</td>\n",
       "      <td>NaN</td>\n",
       "      <td>NaN</td>\n",
       "      <td>NaN</td>\n",
       "      <td>NaN</td>\n",
       "      <td>NaN</td>\n",
       "    </tr>\n",
       "    <tr>\n",
       "      <th>5</th>\n",
       "      <td>공항명</td>\n",
       "      <td>연도</td>\n",
       "      <td>월</td>\n",
       "      <td>운항(편)</td>\n",
       "      <td>NaN</td>\n",
       "      <td>NaN</td>\n",
       "      <td>여객(명)</td>\n",
       "      <td>NaN</td>\n",
       "      <td>NaN</td>\n",
       "      <td>화물(톤)</td>\n",
       "      <td>NaN</td>\n",
       "      <td>NaN</td>\n",
       "    </tr>\n",
       "    <tr>\n",
       "      <th>6</th>\n",
       "      <td>NaN</td>\n",
       "      <td>NaN</td>\n",
       "      <td>NaN</td>\n",
       "      <td>도착</td>\n",
       "      <td>출발</td>\n",
       "      <td>계</td>\n",
       "      <td>도착</td>\n",
       "      <td>출발</td>\n",
       "      <td>계</td>\n",
       "      <td>도착</td>\n",
       "      <td>출발</td>\n",
       "      <td>계</td>\n",
       "    </tr>\n",
       "    <tr>\n",
       "      <th>7</th>\n",
       "      <td>전체</td>\n",
       "      <td>2019</td>\n",
       "      <td>01</td>\n",
       "      <td>38,580</td>\n",
       "      <td>38,624</td>\n",
       "      <td>77,204</td>\n",
       "      <td>6,492,609</td>\n",
       "      <td>6,716,902</td>\n",
       "      <td>13,209,511</td>\n",
       "      <td>187,445.6</td>\n",
       "      <td>194,870.7</td>\n",
       "      <td>382,316.3</td>\n",
       "    </tr>\n",
       "    <tr>\n",
       "      <th>8</th>\n",
       "      <td>전체</td>\n",
       "      <td>2019</td>\n",
       "      <td>02</td>\n",
       "      <td>35,057</td>\n",
       "      <td>35,048</td>\n",
       "      <td>70,105</td>\n",
       "      <td>6,277,383</td>\n",
       "      <td>6,176,872</td>\n",
       "      <td>12,454,255</td>\n",
       "      <td>165,762.5</td>\n",
       "      <td>162,783.7</td>\n",
       "      <td>328,546.2</td>\n",
       "    </tr>\n",
       "    <tr>\n",
       "      <th>9</th>\n",
       "      <td>전체</td>\n",
       "      <td>2019</td>\n",
       "      <td>03</td>\n",
       "      <td>38,369</td>\n",
       "      <td>38,359</td>\n",
       "      <td>76,728</td>\n",
       "      <td>6,503,371</td>\n",
       "      <td>6,243,715</td>\n",
       "      <td>12,747,086</td>\n",
       "      <td>199,865.1</td>\n",
       "      <td>196,202.5</td>\n",
       "      <td>396,067.7</td>\n",
       "    </tr>\n",
       "  </tbody>\n",
       "</table>\n",
       "</div>"
      ],
      "text/plain": [
       "  Unnamed: 0       Unnamed: 1 Unnamed: 2  시계열 통계 Unnamed: 4 Unnamed: 5  \\\n",
       "0        NaN              NaN        NaN     NaN        NaN        NaN   \n",
       "1      검색 기간  2019.01~2022.12        NaN     NaN        NaN        NaN   \n",
       "2      공항 구분               전체        NaN     NaN        NaN        NaN   \n",
       "3      노선 구분               전체      운항 구분      전체    여객화물 구분         전체   \n",
       "4        NaN              NaN        NaN     NaN        NaN        NaN   \n",
       "5        공항명               연도          월   운항(편)        NaN        NaN   \n",
       "6        NaN              NaN        NaN      도착         출발          계   \n",
       "7         전체             2019         01  38,580     38,624     77,204   \n",
       "8         전체             2019         02  35,057     35,048     70,105   \n",
       "9         전체             2019         03  38,369     38,359     76,728   \n",
       "\n",
       "  Unnamed: 6 Unnamed: 7  Unnamed: 8 Unnamed: 9 Unnamed: 10 Unnamed: 11  \n",
       "0        NaN        NaN         NaN        NaN         NaN         NaN  \n",
       "1        NaN        NaN         NaN        NaN         NaN         NaN  \n",
       "2        NaN        NaN         NaN        NaN         NaN         NaN  \n",
       "3      여객 구분         전체       화물 구분         전체     연도/월 구분          전체  \n",
       "4        NaN        NaN         NaN        NaN         NaN         NaN  \n",
       "5      여객(명)        NaN         NaN      화물(톤)         NaN         NaN  \n",
       "6         도착         출발           계         도착          출발           계  \n",
       "7  6,492,609  6,716,902  13,209,511  187,445.6   194,870.7   382,316.3  \n",
       "8  6,277,383  6,176,872  12,454,255  165,762.5   162,783.7   328,546.2  \n",
       "9  6,503,371  6,243,715  12,747,086  199,865.1   196,202.5   396,067.7  "
      ]
     },
     "execution_count": 40,
     "metadata": {},
     "output_type": "execute_result"
    }
   ],
   "source": [
    "airports_df = pd.read_excel(filename)\n",
    "airports_df.head(10)"
   ]
  },
  {
   "cell_type": "code",
   "execution_count": 41,
   "id": "0422db29",
   "metadata": {},
   "outputs": [
    {
     "data": {
      "text/html": [
       "<div>\n",
       "<style scoped>\n",
       "    .dataframe tbody tr th:only-of-type {\n",
       "        vertical-align: middle;\n",
       "    }\n",
       "\n",
       "    .dataframe tbody tr th {\n",
       "        vertical-align: top;\n",
       "    }\n",
       "\n",
       "    .dataframe thead th {\n",
       "        text-align: right;\n",
       "    }\n",
       "</style>\n",
       "<table border=\"1\" class=\"dataframe\">\n",
       "  <thead>\n",
       "    <tr style=\"text-align: right;\">\n",
       "      <th></th>\n",
       "      <th>Unnamed: 0</th>\n",
       "      <th>Unnamed: 1</th>\n",
       "      <th>Unnamed: 2</th>\n",
       "      <th>도착</th>\n",
       "      <th>출발</th>\n",
       "      <th>계</th>\n",
       "      <th>도착.1</th>\n",
       "      <th>출발.1</th>\n",
       "      <th>계.1</th>\n",
       "      <th>도착.2</th>\n",
       "      <th>출발.2</th>\n",
       "      <th>계.2</th>\n",
       "    </tr>\n",
       "  </thead>\n",
       "  <tbody>\n",
       "    <tr>\n",
       "      <th>0</th>\n",
       "      <td>전체</td>\n",
       "      <td>2019</td>\n",
       "      <td>01</td>\n",
       "      <td>38,580</td>\n",
       "      <td>38,624</td>\n",
       "      <td>77,204</td>\n",
       "      <td>6,492,609</td>\n",
       "      <td>6,716,902</td>\n",
       "      <td>13,209,511</td>\n",
       "      <td>187,445.6</td>\n",
       "      <td>194,870.7</td>\n",
       "      <td>382,316.3</td>\n",
       "    </tr>\n",
       "    <tr>\n",
       "      <th>1</th>\n",
       "      <td>전체</td>\n",
       "      <td>2019</td>\n",
       "      <td>02</td>\n",
       "      <td>35,057</td>\n",
       "      <td>35,048</td>\n",
       "      <td>70,105</td>\n",
       "      <td>6,277,383</td>\n",
       "      <td>6,176,872</td>\n",
       "      <td>12,454,255</td>\n",
       "      <td>165,762.5</td>\n",
       "      <td>162,783.7</td>\n",
       "      <td>328,546.2</td>\n",
       "    </tr>\n",
       "    <tr>\n",
       "      <th>2</th>\n",
       "      <td>전체</td>\n",
       "      <td>2019</td>\n",
       "      <td>03</td>\n",
       "      <td>38,369</td>\n",
       "      <td>38,359</td>\n",
       "      <td>76,728</td>\n",
       "      <td>6,503,371</td>\n",
       "      <td>6,243,715</td>\n",
       "      <td>12,747,086</td>\n",
       "      <td>199,865.1</td>\n",
       "      <td>196,202.5</td>\n",
       "      <td>396,067.7</td>\n",
       "    </tr>\n",
       "    <tr>\n",
       "      <th>3</th>\n",
       "      <td>전체</td>\n",
       "      <td>2019</td>\n",
       "      <td>04</td>\n",
       "      <td>37,647</td>\n",
       "      <td>37,645</td>\n",
       "      <td>75,292</td>\n",
       "      <td>6,543,247</td>\n",
       "      <td>6,475,271</td>\n",
       "      <td>13,018,518</td>\n",
       "      <td>183,666.3</td>\n",
       "      <td>187,525.2</td>\n",
       "      <td>371,191.5</td>\n",
       "    </tr>\n",
       "    <tr>\n",
       "      <th>4</th>\n",
       "      <td>전체</td>\n",
       "      <td>2019</td>\n",
       "      <td>05</td>\n",
       "      <td>39,521</td>\n",
       "      <td>39,537</td>\n",
       "      <td>79,058</td>\n",
       "      <td>6,610,475</td>\n",
       "      <td>6,687,916</td>\n",
       "      <td>13,298,391</td>\n",
       "      <td>185,191</td>\n",
       "      <td>184,893.9</td>\n",
       "      <td>370,084.9</td>\n",
       "    </tr>\n",
       "  </tbody>\n",
       "</table>\n",
       "</div>"
      ],
      "text/plain": [
       "  Unnamed: 0 Unnamed: 1 Unnamed: 2      도착      출발       계       도착.1  \\\n",
       "0         전체       2019         01  38,580  38,624  77,204  6,492,609   \n",
       "1         전체       2019         02  35,057  35,048  70,105  6,277,383   \n",
       "2         전체       2019         03  38,369  38,359  76,728  6,503,371   \n",
       "3         전체       2019         04  37,647  37,645  75,292  6,543,247   \n",
       "4         전체       2019         05  39,521  39,537  79,058  6,610,475   \n",
       "\n",
       "        출발.1         계.1       도착.2       출발.2        계.2  \n",
       "0  6,716,902  13,209,511  187,445.6  194,870.7  382,316.3  \n",
       "1  6,176,872  12,454,255  165,762.5  162,783.7  328,546.2  \n",
       "2  6,243,715  12,747,086  199,865.1  196,202.5  396,067.7  \n",
       "3  6,475,271  13,018,518  183,666.3  187,525.2  371,191.5  \n",
       "4  6,687,916  13,298,391    185,191  184,893.9  370,084.9  "
      ]
     },
     "execution_count": 41,
     "metadata": {},
     "output_type": "execute_result"
    }
   ],
   "source": [
    "df = pd.read_excel(filename, sheet_name=0, header=[7], dtype='str')\n",
    "df.head(5)"
   ]
  },
  {
   "cell_type": "code",
   "execution_count": 11,
   "id": "7abb7384",
   "metadata": {},
   "outputs": [
    {
     "data": {
      "text/plain": [
       "Index(['Unnamed: 0', 'Unnamed: 1', 'Unnamed: 2', '도착', '출발', '계', '도착.1',\n",
       "       '출발.1', '계.1', '도착.2', '출발.2', '계.2'],\n",
       "      dtype='object')"
      ]
     },
     "execution_count": 11,
     "metadata": {},
     "output_type": "execute_result"
    }
   ],
   "source": [
    "df.columns"
   ]
  },
  {
   "cell_type": "code",
   "execution_count": 12,
   "id": "b382af51",
   "metadata": {},
   "outputs": [],
   "source": [
    "df = df.drop(['Unnamed: 0', '도착', '출발', '도착.1', '출발.1', '도착.2', '출발.2'], axis=1)"
   ]
  },
  {
   "cell_type": "code",
   "execution_count": 13,
   "id": "e1257695",
   "metadata": {},
   "outputs": [
    {
     "data": {
      "text/html": [
       "<div>\n",
       "<style scoped>\n",
       "    .dataframe tbody tr th:only-of-type {\n",
       "        vertical-align: middle;\n",
       "    }\n",
       "\n",
       "    .dataframe tbody tr th {\n",
       "        vertical-align: top;\n",
       "    }\n",
       "\n",
       "    .dataframe thead th {\n",
       "        text-align: right;\n",
       "    }\n",
       "</style>\n",
       "<table border=\"1\" class=\"dataframe\">\n",
       "  <thead>\n",
       "    <tr style=\"text-align: right;\">\n",
       "      <th></th>\n",
       "      <th>Unnamed: 1</th>\n",
       "      <th>Unnamed: 2</th>\n",
       "      <th>계</th>\n",
       "      <th>계.1</th>\n",
       "      <th>계.2</th>\n",
       "    </tr>\n",
       "  </thead>\n",
       "  <tbody>\n",
       "    <tr>\n",
       "      <th>0</th>\n",
       "      <td>2019</td>\n",
       "      <td>1.0</td>\n",
       "      <td>77,204</td>\n",
       "      <td>13,209,511</td>\n",
       "      <td>382,316.3</td>\n",
       "    </tr>\n",
       "    <tr>\n",
       "      <th>1</th>\n",
       "      <td>2019</td>\n",
       "      <td>2.0</td>\n",
       "      <td>70,105</td>\n",
       "      <td>12,454,255</td>\n",
       "      <td>328,546.2</td>\n",
       "    </tr>\n",
       "    <tr>\n",
       "      <th>2</th>\n",
       "      <td>2019</td>\n",
       "      <td>3.0</td>\n",
       "      <td>76,728</td>\n",
       "      <td>12,747,086</td>\n",
       "      <td>396,067.7</td>\n",
       "    </tr>\n",
       "    <tr>\n",
       "      <th>3</th>\n",
       "      <td>2019</td>\n",
       "      <td>4.0</td>\n",
       "      <td>75,292</td>\n",
       "      <td>13,018,518</td>\n",
       "      <td>371,191.5</td>\n",
       "    </tr>\n",
       "    <tr>\n",
       "      <th>4</th>\n",
       "      <td>2019</td>\n",
       "      <td>5.0</td>\n",
       "      <td>79,058</td>\n",
       "      <td>13,298,391</td>\n",
       "      <td>370,084.9</td>\n",
       "    </tr>\n",
       "  </tbody>\n",
       "</table>\n",
       "</div>"
      ],
      "text/plain": [
       "  Unnamed: 1  Unnamed: 2       계         계.1        계.2\n",
       "0       2019         1.0  77,204  13,209,511  382,316.3\n",
       "1       2019         2.0  70,105  12,454,255  328,546.2\n",
       "2       2019         3.0  76,728  12,747,086  396,067.7\n",
       "3       2019         4.0  75,292  13,018,518  371,191.5\n",
       "4       2019         5.0  79,058  13,298,391  370,084.9"
      ]
     },
     "execution_count": 13,
     "metadata": {},
     "output_type": "execute_result"
    }
   ],
   "source": [
    "df.head(5)"
   ]
  },
  {
   "cell_type": "code",
   "execution_count": 14,
   "id": "bb0b7e67",
   "metadata": {},
   "outputs": [
    {
     "data": {
      "text/plain": [
       "Index(['Unnamed: 1', 'Unnamed: 2', '계', '계.1', '계.2'], dtype='object')"
      ]
     },
     "execution_count": 14,
     "metadata": {},
     "output_type": "execute_result"
    }
   ],
   "source": [
    "df.columns"
   ]
  },
  {
   "cell_type": "code",
   "execution_count": 15,
   "id": "4fdd378a",
   "metadata": {},
   "outputs": [],
   "source": [
    "# df.columns['연도', '월', '운항(편)', '여객(명)', '화물(톤)']\n",
    "df.rename(columns = {'Unnamed: 1':'연도','Unnamed: 2':'월', '계':'운항(편)', '계.1':'여객(명)', '계.2':'화물(톤)' },inplace=True)"
   ]
  },
  {
   "cell_type": "code",
   "execution_count": 16,
   "id": "a4b948b2",
   "metadata": {},
   "outputs": [
    {
     "data": {
      "text/html": [
       "<div>\n",
       "<style scoped>\n",
       "    .dataframe tbody tr th:only-of-type {\n",
       "        vertical-align: middle;\n",
       "    }\n",
       "\n",
       "    .dataframe tbody tr th {\n",
       "        vertical-align: top;\n",
       "    }\n",
       "\n",
       "    .dataframe thead th {\n",
       "        text-align: right;\n",
       "    }\n",
       "</style>\n",
       "<table border=\"1\" class=\"dataframe\">\n",
       "  <thead>\n",
       "    <tr style=\"text-align: right;\">\n",
       "      <th></th>\n",
       "      <th>연도</th>\n",
       "      <th>월</th>\n",
       "      <th>운항(편)</th>\n",
       "      <th>여객(명)</th>\n",
       "      <th>화물(톤)</th>\n",
       "    </tr>\n",
       "  </thead>\n",
       "  <tbody>\n",
       "    <tr>\n",
       "      <th>0</th>\n",
       "      <td>2019</td>\n",
       "      <td>1.0</td>\n",
       "      <td>77,204</td>\n",
       "      <td>13,209,511</td>\n",
       "      <td>382,316.3</td>\n",
       "    </tr>\n",
       "    <tr>\n",
       "      <th>1</th>\n",
       "      <td>2019</td>\n",
       "      <td>2.0</td>\n",
       "      <td>70,105</td>\n",
       "      <td>12,454,255</td>\n",
       "      <td>328,546.2</td>\n",
       "    </tr>\n",
       "    <tr>\n",
       "      <th>2</th>\n",
       "      <td>2019</td>\n",
       "      <td>3.0</td>\n",
       "      <td>76,728</td>\n",
       "      <td>12,747,086</td>\n",
       "      <td>396,067.7</td>\n",
       "    </tr>\n",
       "    <tr>\n",
       "      <th>3</th>\n",
       "      <td>2019</td>\n",
       "      <td>4.0</td>\n",
       "      <td>75,292</td>\n",
       "      <td>13,018,518</td>\n",
       "      <td>371,191.5</td>\n",
       "    </tr>\n",
       "    <tr>\n",
       "      <th>4</th>\n",
       "      <td>2019</td>\n",
       "      <td>5.0</td>\n",
       "      <td>79,058</td>\n",
       "      <td>13,298,391</td>\n",
       "      <td>370,084.9</td>\n",
       "    </tr>\n",
       "  </tbody>\n",
       "</table>\n",
       "</div>"
      ],
      "text/plain": [
       "     연도    월   운항(편)       여객(명)      화물(톤)\n",
       "0  2019  1.0  77,204  13,209,511  382,316.3\n",
       "1  2019  2.0  70,105  12,454,255  328,546.2\n",
       "2  2019  3.0  76,728  12,747,086  396,067.7\n",
       "3  2019  4.0  75,292  13,018,518  371,191.5\n",
       "4  2019  5.0  79,058  13,298,391  370,084.9"
      ]
     },
     "execution_count": 16,
     "metadata": {},
     "output_type": "execute_result"
    }
   ],
   "source": [
    "df.head()"
   ]
  },
  {
   "cell_type": "code",
   "execution_count": 17,
   "id": "4f68ef66",
   "metadata": {},
   "outputs": [
    {
     "data": {
      "text/html": [
       "<div>\n",
       "<style scoped>\n",
       "    .dataframe tbody tr th:only-of-type {\n",
       "        vertical-align: middle;\n",
       "    }\n",
       "\n",
       "    .dataframe tbody tr th {\n",
       "        vertical-align: top;\n",
       "    }\n",
       "\n",
       "    .dataframe thead th {\n",
       "        text-align: right;\n",
       "    }\n",
       "</style>\n",
       "<table border=\"1\" class=\"dataframe\">\n",
       "  <thead>\n",
       "    <tr style=\"text-align: right;\">\n",
       "      <th></th>\n",
       "      <th>연도</th>\n",
       "      <th>월</th>\n",
       "      <th>운항(편)</th>\n",
       "      <th>여객(명)</th>\n",
       "      <th>화물(톤)</th>\n",
       "    </tr>\n",
       "  </thead>\n",
       "  <tbody>\n",
       "    <tr>\n",
       "      <th>0</th>\n",
       "      <td>2019</td>\n",
       "      <td>1.0</td>\n",
       "      <td>77,204</td>\n",
       "      <td>13,209,511</td>\n",
       "      <td>382,316.3</td>\n",
       "    </tr>\n",
       "    <tr>\n",
       "      <th>1</th>\n",
       "      <td>2019</td>\n",
       "      <td>2.0</td>\n",
       "      <td>70,105</td>\n",
       "      <td>12,454,255</td>\n",
       "      <td>328,546.2</td>\n",
       "    </tr>\n",
       "    <tr>\n",
       "      <th>2</th>\n",
       "      <td>2019</td>\n",
       "      <td>3.0</td>\n",
       "      <td>76,728</td>\n",
       "      <td>12,747,086</td>\n",
       "      <td>396,067.7</td>\n",
       "    </tr>\n",
       "    <tr>\n",
       "      <th>3</th>\n",
       "      <td>2019</td>\n",
       "      <td>4.0</td>\n",
       "      <td>75,292</td>\n",
       "      <td>13,018,518</td>\n",
       "      <td>371,191.5</td>\n",
       "    </tr>\n",
       "    <tr>\n",
       "      <th>4</th>\n",
       "      <td>2019</td>\n",
       "      <td>5.0</td>\n",
       "      <td>79,058</td>\n",
       "      <td>13,298,391</td>\n",
       "      <td>370,084.9</td>\n",
       "    </tr>\n",
       "  </tbody>\n",
       "</table>\n",
       "</div>"
      ],
      "text/plain": [
       "     연도    월   운항(편)       여객(명)      화물(톤)\n",
       "0  2019  1.0  77,204  13,209,511  382,316.3\n",
       "1  2019  2.0  70,105  12,454,255  328,546.2\n",
       "2  2019  3.0  76,728  12,747,086  396,067.7\n",
       "3  2019  4.0  75,292  13,018,518  371,191.5\n",
       "4  2019  5.0  79,058  13,298,391  370,084.9"
      ]
     },
     "execution_count": 17,
     "metadata": {},
     "output_type": "execute_result"
    }
   ],
   "source": [
    "df1 = df.drop([12, 25, 38, 44, 45], axis=0)\n",
    "df1.head(5)"
   ]
  },
  {
   "cell_type": "code",
   "execution_count": 18,
   "id": "1328b547",
   "metadata": {},
   "outputs": [
    {
     "data": {
      "text/html": [
       "<div>\n",
       "<style scoped>\n",
       "    .dataframe tbody tr th:only-of-type {\n",
       "        vertical-align: middle;\n",
       "    }\n",
       "\n",
       "    .dataframe tbody tr th {\n",
       "        vertical-align: top;\n",
       "    }\n",
       "\n",
       "    .dataframe thead th {\n",
       "        text-align: right;\n",
       "    }\n",
       "</style>\n",
       "<table border=\"1\" class=\"dataframe\">\n",
       "  <thead>\n",
       "    <tr style=\"text-align: right;\">\n",
       "      <th></th>\n",
       "      <th>연도</th>\n",
       "      <th>월</th>\n",
       "      <th>운항(편)</th>\n",
       "      <th>여객(명)</th>\n",
       "      <th>화물(톤)</th>\n",
       "      <th>기준년월</th>\n",
       "    </tr>\n",
       "  </thead>\n",
       "  <tbody>\n",
       "    <tr>\n",
       "      <th>0</th>\n",
       "      <td>2019</td>\n",
       "      <td>1.0</td>\n",
       "      <td>77,204</td>\n",
       "      <td>13,209,511</td>\n",
       "      <td>382,316.3</td>\n",
       "      <td></td>\n",
       "    </tr>\n",
       "    <tr>\n",
       "      <th>1</th>\n",
       "      <td>2019</td>\n",
       "      <td>2.0</td>\n",
       "      <td>70,105</td>\n",
       "      <td>12,454,255</td>\n",
       "      <td>328,546.2</td>\n",
       "      <td></td>\n",
       "    </tr>\n",
       "    <tr>\n",
       "      <th>2</th>\n",
       "      <td>2019</td>\n",
       "      <td>3.0</td>\n",
       "      <td>76,728</td>\n",
       "      <td>12,747,086</td>\n",
       "      <td>396,067.7</td>\n",
       "      <td></td>\n",
       "    </tr>\n",
       "    <tr>\n",
       "      <th>3</th>\n",
       "      <td>2019</td>\n",
       "      <td>4.0</td>\n",
       "      <td>75,292</td>\n",
       "      <td>13,018,518</td>\n",
       "      <td>371,191.5</td>\n",
       "      <td></td>\n",
       "    </tr>\n",
       "    <tr>\n",
       "      <th>4</th>\n",
       "      <td>2019</td>\n",
       "      <td>5.0</td>\n",
       "      <td>79,058</td>\n",
       "      <td>13,298,391</td>\n",
       "      <td>370,084.9</td>\n",
       "      <td></td>\n",
       "    </tr>\n",
       "  </tbody>\n",
       "</table>\n",
       "</div>"
      ],
      "text/plain": [
       "     연도    월   운항(편)       여객(명)      화물(톤) 기준년월\n",
       "0  2019  1.0  77,204  13,209,511  382,316.3     \n",
       "1  2019  2.0  70,105  12,454,255  328,546.2     \n",
       "2  2019  3.0  76,728  12,747,086  396,067.7     \n",
       "3  2019  4.0  75,292  13,018,518  371,191.5     \n",
       "4  2019  5.0  79,058  13,298,391  370,084.9     "
      ]
     },
     "execution_count": 18,
     "metadata": {},
     "output_type": "execute_result"
    }
   ],
   "source": [
    "df1['기준년월'] = ''\n",
    "df1.head(5)"
   ]
  },
  {
   "cell_type": "code",
   "execution_count": 19,
   "id": "37887d51",
   "metadata": {},
   "outputs": [
    {
     "data": {
      "text/plain": [
       "연도        object\n",
       "월        float64\n",
       "운항(편)     object\n",
       "여객(명)     object\n",
       "화물(톤)     object\n",
       "기준년월      object\n",
       "dtype: object"
      ]
     },
     "execution_count": 19,
     "metadata": {},
     "output_type": "execute_result"
    }
   ],
   "source": [
    "df1.dtypes"
   ]
  },
  {
   "cell_type": "code",
   "execution_count": 20,
   "id": "7f6af85c",
   "metadata": {},
   "outputs": [],
   "source": [
    "# pd.options.display.float_format = '{:,.0f}'.format\n",
    "# df1.head()"
   ]
  },
  {
   "cell_type": "code",
   "execution_count": 21,
   "id": "e7e9ca10",
   "metadata": {},
   "outputs": [
    {
     "data": {
      "text/plain": [
       "연도        int32\n",
       "월         int32\n",
       "운항(편)    object\n",
       "여객(명)    object\n",
       "화물(톤)    object\n",
       "기준년월     object\n",
       "dtype: object"
      ]
     },
     "execution_count": 21,
     "metadata": {},
     "output_type": "execute_result"
    }
   ],
   "source": [
    "df2 = df1.astype({'월':'int'})\n",
    "df2 = df2.astype({'연도':'int'})\n",
    "df2.dtypes"
   ]
  },
  {
   "cell_type": "code",
   "execution_count": 22,
   "id": "dd5ef61c",
   "metadata": {},
   "outputs": [
    {
     "data": {
      "text/plain": [
       "연도        int32\n",
       "월         int32\n",
       "운항(편)    object\n",
       "여객(명)    object\n",
       "화물(톤)    object\n",
       "기준년월     object\n",
       "dtype: object"
      ]
     },
     "execution_count": 22,
     "metadata": {},
     "output_type": "execute_result"
    }
   ],
   "source": [
    "df2.dtypes"
   ]
  },
  {
   "cell_type": "code",
   "execution_count": 23,
   "id": "7380a783",
   "metadata": {},
   "outputs": [
    {
     "data": {
      "text/plain": [
       "연도       object\n",
       "월        object\n",
       "운항(편)    object\n",
       "여객(명)    object\n",
       "화물(톤)    object\n",
       "기준년월     object\n",
       "dtype: object"
      ]
     },
     "execution_count": 23,
     "metadata": {},
     "output_type": "execute_result"
    }
   ],
   "source": [
    "df2 = df2.astype({'연도':'str'})\n",
    "df2 = df2.astype({'월':'str'})\n",
    "df2.dtypes"
   ]
  },
  {
   "cell_type": "code",
   "execution_count": 24,
   "id": "d796e0dd",
   "metadata": {},
   "outputs": [
    {
     "data": {
      "text/html": [
       "<div>\n",
       "<style scoped>\n",
       "    .dataframe tbody tr th:only-of-type {\n",
       "        vertical-align: middle;\n",
       "    }\n",
       "\n",
       "    .dataframe tbody tr th {\n",
       "        vertical-align: top;\n",
       "    }\n",
       "\n",
       "    .dataframe thead th {\n",
       "        text-align: right;\n",
       "    }\n",
       "</style>\n",
       "<table border=\"1\" class=\"dataframe\">\n",
       "  <thead>\n",
       "    <tr style=\"text-align: right;\">\n",
       "      <th></th>\n",
       "      <th>연도</th>\n",
       "      <th>월</th>\n",
       "      <th>운항(편)</th>\n",
       "      <th>여객(명)</th>\n",
       "      <th>화물(톤)</th>\n",
       "      <th>기준년월</th>\n",
       "    </tr>\n",
       "  </thead>\n",
       "  <tbody>\n",
       "    <tr>\n",
       "      <th>0</th>\n",
       "      <td>2019</td>\n",
       "      <td>1</td>\n",
       "      <td>77,204</td>\n",
       "      <td>13,209,511</td>\n",
       "      <td>382,316.3</td>\n",
       "      <td>2019.1</td>\n",
       "    </tr>\n",
       "    <tr>\n",
       "      <th>1</th>\n",
       "      <td>2019</td>\n",
       "      <td>2</td>\n",
       "      <td>70,105</td>\n",
       "      <td>12,454,255</td>\n",
       "      <td>328,546.2</td>\n",
       "      <td>2019.2</td>\n",
       "    </tr>\n",
       "    <tr>\n",
       "      <th>2</th>\n",
       "      <td>2019</td>\n",
       "      <td>3</td>\n",
       "      <td>76,728</td>\n",
       "      <td>12,747,086</td>\n",
       "      <td>396,067.7</td>\n",
       "      <td>2019.3</td>\n",
       "    </tr>\n",
       "    <tr>\n",
       "      <th>3</th>\n",
       "      <td>2019</td>\n",
       "      <td>4</td>\n",
       "      <td>75,292</td>\n",
       "      <td>13,018,518</td>\n",
       "      <td>371,191.5</td>\n",
       "      <td>2019.4</td>\n",
       "    </tr>\n",
       "    <tr>\n",
       "      <th>4</th>\n",
       "      <td>2019</td>\n",
       "      <td>5</td>\n",
       "      <td>79,058</td>\n",
       "      <td>13,298,391</td>\n",
       "      <td>370,084.9</td>\n",
       "      <td>2019.5</td>\n",
       "    </tr>\n",
       "  </tbody>\n",
       "</table>\n",
       "</div>"
      ],
      "text/plain": [
       "     연도  월   운항(편)       여객(명)      화물(톤)    기준년월\n",
       "0  2019  1  77,204  13,209,511  382,316.3  2019.1\n",
       "1  2019  2  70,105  12,454,255  328,546.2  2019.2\n",
       "2  2019  3  76,728  12,747,086  396,067.7  2019.3\n",
       "3  2019  4  75,292  13,018,518  371,191.5  2019.4\n",
       "4  2019  5  79,058  13,298,391  370,084.9  2019.5"
      ]
     },
     "execution_count": 24,
     "metadata": {},
     "output_type": "execute_result"
    }
   ],
   "source": [
    "df2['기준년월'] = df2['연도'] + \".\" + df2['월']\n",
    "df2.head()"
   ]
  },
  {
   "cell_type": "code",
   "execution_count": 45,
   "id": "1546e652",
   "metadata": {},
   "outputs": [
    {
     "data": {
      "text/plain": [
       "array(['2019.1', '2019.2', '2019.3', '2019.4', '2019.5', '2019.6',\n",
       "       '2019.7', '2019.8', '2019.9', '2019.10', '2019.11', '2019.12',\n",
       "       '2020.1', '2020.2', '2020.3', '2020.4', '2020.5', '2020.6',\n",
       "       '2020.7', '2020.8', '2020.9', '2020.10', '2020.11', '2020.12',\n",
       "       '2021.1', '2021.2', '2021.3', '2021.4', '2021.5', '2021.6',\n",
       "       '2021.7', '2021.8', '2021.9', '2021.10', '2021.11', '2021.12',\n",
       "       '2022.1', '2022.2', '2022.3', '2022.4', '2022.5'], dtype=object)"
      ]
     },
     "execution_count": 45,
     "metadata": {},
     "output_type": "execute_result"
    }
   ],
   "source": [
    "df2[\"기준년월\"].values"
   ]
  },
  {
   "cell_type": "code",
   "execution_count": 59,
   "id": "55d12204",
   "metadata": {},
   "outputs": [
    {
     "data": {
      "text/plain": [
       "['19.1', '19.2', '19.3', '19.4', '19.5']"
      ]
     },
     "execution_count": 59,
     "metadata": {},
     "output_type": "execute_result"
    }
   ],
   "source": [
    "x_val = list()\n",
    "\n",
    "for val in list(df2[\"기준년월\"].values):\n",
    "    val = val[2:]\n",
    "    x_val.append(val)\n",
    "    \n",
    "x_val[:5]"
   ]
  },
  {
   "cell_type": "code",
   "execution_count": 25,
   "id": "22af7190",
   "metadata": {},
   "outputs": [
    {
     "data": {
      "text/plain": [
       "[77204, 70105, 76728, 75292, 79058]"
      ]
     },
     "execution_count": 25,
     "metadata": {},
     "output_type": "execute_result"
    }
   ],
   "source": [
    "y_val = list()\n",
    "for val in list(df2[\"운항(편)\"].values):\n",
    "    val = val.replace(',', '')\n",
    "    val = val.strip()\n",
    "    val = int(val)\n",
    "    y_val.append(val)\n",
    "    \n",
    "y_val[:5]    "
   ]
  },
  {
   "cell_type": "code",
   "execution_count": 84,
   "id": "1fbade8b",
   "metadata": {},
   "outputs": [
    {
     "name": "stdout",
     "output_type": "stream",
     "text": [
      "Help on function annotate in module matplotlib.pyplot:\n",
      "\n",
      "annotate(text, xy, *args, **kwargs)\n",
      "    Annotate the point *xy* with text *text*.\n",
      "    \n",
      "    In the simplest form, the text is placed at *xy*.\n",
      "    \n",
      "    Optionally, the text can be displayed in another position *xytext*.\n",
      "    An arrow pointing from the text to the annotated point *xy* can then\n",
      "    be added by defining *arrowprops*.\n",
      "    \n",
      "    Parameters\n",
      "    ----------\n",
      "    text : str\n",
      "        The text of the annotation.\n",
      "    \n",
      "    xy : (float, float)\n",
      "        The point *(x, y)* to annotate. The coordinate system is determined\n",
      "        by *xycoords*.\n",
      "    \n",
      "    xytext : (float, float), default: *xy*\n",
      "        The position *(x, y)* to place the text at. The coordinate system\n",
      "        is determined by *textcoords*.\n",
      "    \n",
      "    xycoords : str or `.Artist` or `.Transform` or callable or (float, float), default: 'data'\n",
      "    \n",
      "        The coordinate system that *xy* is given in. The following types\n",
      "        of values are supported:\n",
      "    \n",
      "        - One of the following strings:\n",
      "    \n",
      "          ==================== ============================================\n",
      "          Value                Description\n",
      "          ==================== ============================================\n",
      "          'figure points'      Points from the lower left of the figure\n",
      "          'figure pixels'      Pixels from the lower left of the figure\n",
      "          'figure fraction'    Fraction of figure from lower left\n",
      "          'subfigure points'   Points from the lower left of the subfigure\n",
      "          'subfigure pixels'   Pixels from the lower left of the subfigure\n",
      "          'subfigure fraction' Fraction of subfigure from lower left\n",
      "          'axes points'        Points from lower left corner of axes\n",
      "          'axes pixels'        Pixels from lower left corner of axes\n",
      "          'axes fraction'      Fraction of axes from lower left\n",
      "          'data'               Use the coordinate system of the object\n",
      "                               being annotated (default)\n",
      "          'polar'              *(theta, r)* if not native 'data'\n",
      "                               coordinates\n",
      "          ==================== ============================================\n",
      "    \n",
      "          Note that 'subfigure pixels' and 'figure pixels' are the same\n",
      "          for the parent figure, so users who want code that is usable in\n",
      "          a subfigure can use 'subfigure pixels'.\n",
      "    \n",
      "        - An `.Artist`: *xy* is interpreted as a fraction of the artist's\n",
      "          `~matplotlib.transforms.Bbox`. E.g. *(0, 0)* would be the lower\n",
      "          left corner of the bounding box and *(0.5, 1)* would be the\n",
      "          center top of the bounding box.\n",
      "    \n",
      "        - A `.Transform` to transform *xy* to screen coordinates.\n",
      "    \n",
      "        - A function with one of the following signatures::\n",
      "    \n",
      "            def transform(renderer) -> Bbox\n",
      "            def transform(renderer) -> Transform\n",
      "    \n",
      "          where *renderer* is a `.RendererBase` subclass.\n",
      "    \n",
      "          The result of the function is interpreted like the `.Artist` and\n",
      "          `.Transform` cases above.\n",
      "    \n",
      "        - A tuple *(xcoords, ycoords)* specifying separate coordinate\n",
      "          systems for *x* and *y*. *xcoords* and *ycoords* must each be\n",
      "          of one of the above described types.\n",
      "    \n",
      "        See :ref:`plotting-guide-annotation` for more details.\n",
      "    \n",
      "    textcoords : str or `.Artist` or `.Transform` or callable or (float, float), default: value of *xycoords*\n",
      "        The coordinate system that *xytext* is given in.\n",
      "    \n",
      "        All *xycoords* values are valid as well as the following\n",
      "        strings:\n",
      "    \n",
      "        =================   =========================================\n",
      "        Value               Description\n",
      "        =================   =========================================\n",
      "        'offset points'     Offset (in points) from the *xy* value\n",
      "        'offset pixels'     Offset (in pixels) from the *xy* value\n",
      "        =================   =========================================\n",
      "    \n",
      "    arrowprops : dict, optional\n",
      "        The properties used to draw a `.FancyArrowPatch` arrow between the\n",
      "        positions *xy* and *xytext*.  Defaults to None, i.e. no arrow is\n",
      "        drawn.\n",
      "    \n",
      "        For historical reasons there are two different ways to specify\n",
      "        arrows, \"simple\" and \"fancy\":\n",
      "    \n",
      "        **Simple arrow:**\n",
      "    \n",
      "        If *arrowprops* does not contain the key 'arrowstyle' the\n",
      "        allowed keys are:\n",
      "    \n",
      "        ==========   ======================================================\n",
      "        Key          Description\n",
      "        ==========   ======================================================\n",
      "        width        The width of the arrow in points\n",
      "        headwidth    The width of the base of the arrow head in points\n",
      "        headlength   The length of the arrow head in points\n",
      "        shrink       Fraction of total length to shrink from both ends\n",
      "        ?            Any key to :class:`matplotlib.patches.FancyArrowPatch`\n",
      "        ==========   ======================================================\n",
      "    \n",
      "        The arrow is attached to the edge of the text box, the exact\n",
      "        position (corners or centers) depending on where it's pointing to.\n",
      "    \n",
      "        **Fancy arrow:**\n",
      "    \n",
      "        This is used if 'arrowstyle' is provided in the *arrowprops*.\n",
      "    \n",
      "        Valid keys are the following `~matplotlib.patches.FancyArrowPatch`\n",
      "        parameters:\n",
      "    \n",
      "        ===============  ==================================================\n",
      "        Key              Description\n",
      "        ===============  ==================================================\n",
      "        arrowstyle       the arrow style\n",
      "        connectionstyle  the connection style\n",
      "        relpos           see below; default is (0.5, 0.5)\n",
      "        patchA           default is bounding box of the text\n",
      "        patchB           default is None\n",
      "        shrinkA          default is 2 points\n",
      "        shrinkB          default is 2 points\n",
      "        mutation_scale   default is text size (in points)\n",
      "        mutation_aspect  default is 1.\n",
      "        ?                any key for :class:`matplotlib.patches.PathPatch`\n",
      "        ===============  ==================================================\n",
      "    \n",
      "        The exact starting point position of the arrow is defined by\n",
      "        *relpos*. It's a tuple of relative coordinates of the text box,\n",
      "        where (0, 0) is the lower left corner and (1, 1) is the upper\n",
      "        right corner. Values <0 and >1 are supported and specify points\n",
      "        outside the text box. By default (0.5, 0.5) the starting point is\n",
      "        centered in the text box.\n",
      "    \n",
      "    annotation_clip : bool or None, default: None\n",
      "        Whether to draw the annotation when the annotation point *xy* is\n",
      "        outside the axes area.\n",
      "    \n",
      "        - If *True*, the annotation will only be drawn when *xy* is\n",
      "          within the axes.\n",
      "        - If *False*, the annotation will always be drawn.\n",
      "        - If *None*, the annotation will only be drawn when *xy* is\n",
      "          within the axes and *xycoords* is 'data'.\n",
      "    \n",
      "    **kwargs\n",
      "        Additional kwargs are passed to `~matplotlib.text.Text`.\n",
      "    \n",
      "    Returns\n",
      "    -------\n",
      "    `.Annotation`\n",
      "    \n",
      "    See Also\n",
      "    --------\n",
      "    :ref:`plotting-guide-annotation`\n",
      "\n"
     ]
    }
   ],
   "source": [
    "help(plt.annotate)"
   ]
  },
  {
   "cell_type": "code",
   "execution_count": 87,
   "id": "72006aeb",
   "metadata": {},
   "outputs": [
    {
     "data": {
      "image/png": "[encoded data removed]",
      "text/plain": [
       "<Figure size 1800x720 with 1 Axes>"
      ]
     },
     "metadata": {},
     "output_type": "display_data"
    }
   ],
   "source": [
    "fig = plt.figure(figsize=(25, 10))\n",
    "sns.set(style=\"white\", font=\"Malgun Gothic\")\n",
    "\n",
    "box = {\n",
    "    'facecolor' : '.75',\n",
    "    'edgecolor' : 'k',\n",
    "    'boxstyle'  : 'round'\n",
    "}\n",
    "\n",
    "plt.annotate('Backmard minimum',\n",
    "            ha = 'center',\n",
    "            va = 'bottom',\n",
    "            xytext = (10, 300000),\n",
    "            xy = (10, 300000),\n",
    "            arrowprops = { 'facecolor' : 'black', \n",
    "                           'shrink' : 0.05})\n",
    "\n",
    "\n",
    "plt.plot(x_val, y_val,  color='r', label=\"운항(편)\", linestyle='solid', linewidth=3)\n",
    "# plt.plot(df2['기준년월'], y_val2, color='b', label=\"여객(명)\")\n",
    "# plt.plot(df2['기준년월'], y_val3, color='y', label=\"화물(톤)\")\n",
    "plt.rc('font', family='Malgun Gothic')\n",
    "plt.grid()\n",
    "plt.text(8, 35000, 'Covid-19 팬데믹 선포', bbox=box)\n",
    "plt.ylabel(\"항공기 운용 수\")\n",
    "plt.xlabel(\"기준년월\")\n",
    "plt.title('항공 운용 현황')\n",
    "# plt.legend()\n",
    "plt.show()"
   ]
  },
  {
   "cell_type": "code",
   "execution_count": 26,
   "id": "0222f196",
   "metadata": {},
   "outputs": [
    {
     "data": {
      "text/plain": [
       "[13209511, 12454255, 12747086, 13018518, 13298391]"
      ]
     },
     "execution_count": 26,
     "metadata": {},
     "output_type": "execute_result"
    }
   ],
   "source": [
    "y_val2 = list()\n",
    "for val in list(df2[\"여객(명)\"].values):\n",
    "    val = val.replace(',', '')\n",
    "    val = val.strip()\n",
    "    val = int(val)\n",
    "    y_val2.append(val)\n",
    "    \n",
    "y_val2[:5]   "
   ]
  },
  {
   "cell_type": "code",
   "execution_count": 70,
   "id": "3f82ccff",
   "metadata": {},
   "outputs": [
    {
     "data": {
      "image/png": "[encoded data removed]",
      "text/plain": [
       "<Figure size 1152x720 with 1 Axes>"
      ]
     },
     "metadata": {},
     "output_type": "display_data"
    }
   ],
   "source": [
    "fig = plt.figure(figsize=(16, 10))\n",
    "sns.set(style=\"white\", font=\"Malgun Gothic\")\n",
    "\n",
    "# plt.plot(x_val, y_val,  color='r', label=\"운항(편)\", linestyle='solid', linewidth=3)\n",
    "plt.plot(x_val, y_val2, color='b', label=\"여객(명)\", linestyle='dotted', linewidth=3)\n",
    "# plt.plot(df2['기준년월'], y_val3, color='y', label=\"화물(톤)\")\n",
    "\n",
    "plt.rc('font', family='Malgun Gothic')\n",
    "plt.grid()\n",
    "plt.ylabel(\"탑승인원(천만명)\")\n",
    "plt.xlabel(\"기준년월\")\n",
    "plt.title('항공기 탑승객 현황')\n",
    "# plt.legend()\n",
    "plt.show()"
   ]
  },
  {
   "cell_type": "code",
   "execution_count": 32,
   "id": "bf5b7216",
   "metadata": {},
   "outputs": [
    {
     "data": {
      "text/plain": [
       "[382316.3, 328546.2, 396067.7, 371191.5, 370084.9]"
      ]
     },
     "execution_count": 32,
     "metadata": {},
     "output_type": "execute_result"
    }
   ],
   "source": [
    "y_val3 = list()\n",
    "for val in list(df2[\"화물(톤)\"].values):\n",
    "    val = val.replace(',', '')\n",
    "    val = val.strip()\n",
    "    val = float(val)\n",
    "    y_val3.append(val)\n",
    "    \n",
    "y_val3[:5]"
   ]
  },
  {
   "cell_type": "code",
   "execution_count": 44,
   "id": "ef3ec63a",
   "metadata": {},
   "outputs": [
    {
     "data": {
      "image/png": "[encoded data removed]",
      "text/plain": [
       "<Figure size 1152x720 with 1 Axes>"
      ]
     },
     "metadata": {},
     "output_type": "display_data"
    }
   ],
   "source": [
    "fig = plt.figure(figsize=(16, 10))\n",
    "sns.set(style=\"white\", font=\"Malgun Gothic\")\n",
    "\n",
    "# plt.plot(df2['기준년월'], y_val,  color='r', label=\"운항(편)\")\n",
    "# plt.plot(df2['기준년월'], y_val2, color='b', label=\"여객(명)\")\n",
    "plt.plot(df2['기준년월'], y_val3, color='y', label=\"화물(톤)\")\n",
    "\n",
    "plt.rc('font', family='Malgun Gothic')\n",
    "plt.grid()\n",
    "plt.ylabel(\"화물(톤)\")\n",
    "plt.xlabel(\"기준년월\")\n",
    "plt.title('항공기 화물운송 현황')\n",
    "# plt.legend()\n",
    "plt.show()"
   ]
  },
  {
   "cell_type": "code",
   "execution_count": null,
   "id": "8ea462dd",
   "metadata": {},
   "outputs": [],
   "source": []
  }
 ],
 "metadata": {
  "kernelspec": {
   "display_name": "Python 3 (ipykernel)",
   "language": "python",
   "name": "python3"
  },
  "language_info": {
   "codemirror_mode": {
    "name": "ipython",
    "version": 3
   },
   "file_extension": ".py",
   "mimetype": "text/x-python",
   "name": "python",
   "nbconvert_exporter": "python",
   "pygments_lexer": "ipython3",
   "version": "3.9.12"
  }
 },
 "nbformat": 4,
 "nbformat_minor": 5
}
