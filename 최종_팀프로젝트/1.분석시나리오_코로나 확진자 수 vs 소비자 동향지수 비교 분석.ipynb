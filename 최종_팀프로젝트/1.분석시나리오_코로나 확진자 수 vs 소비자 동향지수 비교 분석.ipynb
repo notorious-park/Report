{
 "cells": [
  {
   "cell_type": "markdown",
   "metadata": {},
   "source": [
    "# 분석시나리오 1"
   ]
  },
  {
   "cell_type": "markdown",
   "metadata": {},
   "source": [
    "## <font color=blue>코로나 확진자 수 추이 VS.소비자 동향 지수 추이 (20.1월 ~ 22.5월) </font>"
   ]
  },
  {
   "cell_type": "markdown",
   "metadata": {},
   "source": [
    "* 소비자 동향 지수  \n",
    "매월 한국은행이 소비자의 경제상황에 대한 인식과 향후 소비지출전망 등을 조사하여 지수화한 것으로, 지수가 100보다 크면 경기 전망에 대한 긍정적 인식이 더 높다는 것을 의미(100을 기준으로 0에서 200까지 값)  \n",
    "--> 소비지출전망 CSI가 100을 넘긴 것 : 앞으로 소비를 늘리겠다고 밝힌 소비자가 줄이겠다는 사람수보다 많았음을 의미  "
   ]
  },
  {
   "cell_type": "code",
   "execution_count": null,
   "metadata": {},
   "outputs": [],
   "source": []
  },
  {
   "cell_type": "code",
   "execution_count": 1,
   "metadata": {},
   "outputs": [],
   "source": [
    "import platform\n",
    "\n",
    "import numpy as np\n",
    "import pandas as pd\n",
    "import matplotlib.pyplot as plt\n",
    "\n",
    "from matplotlib import font_manager, rc\n",
    "if platform.system() == 'Darwin':\n",
    "    rc('font', family='AppleGothic')\n",
    "elif platform.system() == 'Windows':\n",
    "    font_name = font_manager.FontProperties(fname=\"C:/Windows/Fonts/malgun.ttf\").get_name()\n",
    "    rc('font', family=font_name)\n",
    "else:\n",
    "    print(\"It's unknown system. Hangul fonts are not supported!\")\n",
    "    \n",
    "# plt.rcParams['axes.unicode_minus'] = False\n",
    "plt.rcParams[\"figure.figsize\"] = [12,6]\n",
    "\n",
    "%matplotlib inline"
   ]
  },
  {
   "cell_type": "code",
   "execution_count": 3,
   "metadata": {},
   "outputs": [
    {
     "data": {
      "text/html": [
       "<div>\n",
       "<style scoped>\n",
       "    .dataframe tbody tr th:only-of-type {\n",
       "        vertical-align: middle;\n",
       "    }\n",
       "\n",
       "    .dataframe tbody tr th {\n",
       "        vertical-align: top;\n",
       "    }\n",
       "\n",
       "    .dataframe thead th {\n",
       "        text-align: right;\n",
       "    }\n",
       "</style>\n",
       "<table border=\"1\" class=\"dataframe\">\n",
       "  <thead>\n",
       "    <tr style=\"text-align: right;\">\n",
       "      <th></th>\n",
       "      <th>base_mm</th>\n",
       "      <th>covid_new</th>\n",
       "    </tr>\n",
       "  </thead>\n",
       "  <tbody>\n",
       "    <tr>\n",
       "      <th>0</th>\n",
       "      <td>2020/01</td>\n",
       "      <td>0</td>\n",
       "    </tr>\n",
       "    <tr>\n",
       "      <th>1</th>\n",
       "      <td>2020/02</td>\n",
       "      <td>0</td>\n",
       "    </tr>\n",
       "    <tr>\n",
       "      <th>2</th>\n",
       "      <td>2020/03</td>\n",
       "      <td>0</td>\n",
       "    </tr>\n",
       "    <tr>\n",
       "      <th>3</th>\n",
       "      <td>2020/04</td>\n",
       "      <td>979</td>\n",
       "    </tr>\n",
       "    <tr>\n",
       "      <th>4</th>\n",
       "      <td>2020/05</td>\n",
       "      <td>703</td>\n",
       "    </tr>\n",
       "  </tbody>\n",
       "</table>\n",
       "</div>"
      ],
      "text/plain": [
       "   base_mm  covid_new\n",
       "0  2020/01          0\n",
       "1  2020/02          0\n",
       "2  2020/03          0\n",
       "3  2020/04        979\n",
       "4  2020/05        703"
      ]
     },
     "execution_count": 3,
     "metadata": {},
     "output_type": "execute_result"
    }
   ],
   "source": [
    "# df = pd.read_csv(file_name, encoding='utf-8')  # utf-8, euc-kr, cp949\n",
    "\n",
    "# 월별 코로나 신규 확진자 수 가져오기\n",
    "df_covid_data = pd.read_excel('data/data_covid.xlsx')\n",
    "df_covid_data.head()"
   ]
  },
  {
   "cell_type": "code",
   "execution_count": 4,
   "metadata": {},
   "outputs": [
    {
     "data": {
      "text/html": [
       "<div>\n",
       "<style scoped>\n",
       "    .dataframe tbody tr th:only-of-type {\n",
       "        vertical-align: middle;\n",
       "    }\n",
       "\n",
       "    .dataframe tbody tr th {\n",
       "        vertical-align: top;\n",
       "    }\n",
       "\n",
       "    .dataframe thead th {\n",
       "        text-align: right;\n",
       "    }\n",
       "</style>\n",
       "<table border=\"1\" class=\"dataframe\">\n",
       "  <thead>\n",
       "    <tr style=\"text-align: right;\">\n",
       "      <th></th>\n",
       "      <th>base_mm</th>\n",
       "      <th>income_CSI</th>\n",
       "      <th>con_CSI</th>\n",
       "    </tr>\n",
       "  </thead>\n",
       "  <tbody>\n",
       "    <tr>\n",
       "      <th>0</th>\n",
       "      <td>2020/01</td>\n",
       "      <td>101</td>\n",
       "      <td>110</td>\n",
       "    </tr>\n",
       "    <tr>\n",
       "      <th>1</th>\n",
       "      <td>2020/02</td>\n",
       "      <td>97</td>\n",
       "      <td>106</td>\n",
       "    </tr>\n",
       "    <tr>\n",
       "      <th>2</th>\n",
       "      <td>2020/03</td>\n",
       "      <td>87</td>\n",
       "      <td>93</td>\n",
       "    </tr>\n",
       "    <tr>\n",
       "      <th>3</th>\n",
       "      <td>2020/04</td>\n",
       "      <td>83</td>\n",
       "      <td>87</td>\n",
       "    </tr>\n",
       "    <tr>\n",
       "      <th>4</th>\n",
       "      <td>2020/05</td>\n",
       "      <td>87</td>\n",
       "      <td>91</td>\n",
       "    </tr>\n",
       "  </tbody>\n",
       "</table>\n",
       "</div>"
      ],
      "text/plain": [
       "   base_mm  income_CSI  con_CSI\n",
       "0  2020/01         101      110\n",
       "1  2020/02          97      106\n",
       "2  2020/03          87       93\n",
       "3  2020/04          83       87\n",
       "4  2020/05          87       91"
      ]
     },
     "execution_count": 4,
     "metadata": {},
     "output_type": "execute_result"
    }
   ],
   "source": [
    "# 월별 소비자 동향 조사 : 가계수입전망CSI / 소비지출전망CSI\n",
    "df_con_data = pd.read_excel('data/data_consumer_index.xlsx')\n",
    "df_con_data.head()"
   ]
  },
  {
   "cell_type": "code",
   "execution_count": 5,
   "metadata": {},
   "outputs": [
    {
     "data": {
      "text/html": [
       "<div>\n",
       "<style scoped>\n",
       "    .dataframe tbody tr th:only-of-type {\n",
       "        vertical-align: middle;\n",
       "    }\n",
       "\n",
       "    .dataframe tbody tr th {\n",
       "        vertical-align: top;\n",
       "    }\n",
       "\n",
       "    .dataframe thead th {\n",
       "        text-align: right;\n",
       "    }\n",
       "</style>\n",
       "<table border=\"1\" class=\"dataframe\">\n",
       "  <thead>\n",
       "    <tr style=\"text-align: right;\">\n",
       "      <th></th>\n",
       "      <th>base_mm</th>\n",
       "      <th>covid_new</th>\n",
       "      <th>income_CSI</th>\n",
       "      <th>con_CSI</th>\n",
       "    </tr>\n",
       "  </thead>\n",
       "  <tbody>\n",
       "    <tr>\n",
       "      <th>0</th>\n",
       "      <td>2020/01</td>\n",
       "      <td>0</td>\n",
       "      <td>101</td>\n",
       "      <td>110</td>\n",
       "    </tr>\n",
       "    <tr>\n",
       "      <th>1</th>\n",
       "      <td>2020/02</td>\n",
       "      <td>0</td>\n",
       "      <td>97</td>\n",
       "      <td>106</td>\n",
       "    </tr>\n",
       "    <tr>\n",
       "      <th>2</th>\n",
       "      <td>2020/03</td>\n",
       "      <td>0</td>\n",
       "      <td>87</td>\n",
       "      <td>93</td>\n",
       "    </tr>\n",
       "    <tr>\n",
       "      <th>3</th>\n",
       "      <td>2020/04</td>\n",
       "      <td>979</td>\n",
       "      <td>83</td>\n",
       "      <td>87</td>\n",
       "    </tr>\n",
       "    <tr>\n",
       "      <th>4</th>\n",
       "      <td>2020/05</td>\n",
       "      <td>703</td>\n",
       "      <td>87</td>\n",
       "      <td>91</td>\n",
       "    </tr>\n",
       "  </tbody>\n",
       "</table>\n",
       "</div>"
      ],
      "text/plain": [
       "   base_mm  covid_new  income_CSI  con_CSI\n",
       "0  2020/01          0         101      110\n",
       "1  2020/02          0          97      106\n",
       "2  2020/03          0          87       93\n",
       "3  2020/04        979          83       87\n",
       "4  2020/05        703          87       91"
      ]
     },
     "execution_count": 5,
     "metadata": {},
     "output_type": "execute_result"
    }
   ],
   "source": [
    "# 월별데이터 기준시점별 조인\n",
    "df_mg = pd.merge(df_covid_data, df_con_data, on = 'base_mm')\n",
    "df_mg.head()"
   ]
  },
  {
   "cell_type": "code",
   "execution_count": 6,
   "metadata": {},
   "outputs": [
    {
     "data": {
      "text/plain": [
       "(29, 29, 29)"
      ]
     },
     "execution_count": 6,
     "metadata": {},
     "output_type": "execute_result"
    }
   ],
   "source": [
    "len(df_covid_data), len(df_con_data), len(df_mg)"
   ]
  },
  {
   "cell_type": "code",
   "execution_count": 7,
   "metadata": {},
   "outputs": [
    {
     "data": {
      "text/html": [
       "<div>\n",
       "<style scoped>\n",
       "    .dataframe tbody tr th:only-of-type {\n",
       "        vertical-align: middle;\n",
       "    }\n",
       "\n",
       "    .dataframe tbody tr th {\n",
       "        vertical-align: top;\n",
       "    }\n",
       "\n",
       "    .dataframe thead th {\n",
       "        text-align: right;\n",
       "    }\n",
       "</style>\n",
       "<table border=\"1\" class=\"dataframe\">\n",
       "  <thead>\n",
       "    <tr style=\"text-align: right;\">\n",
       "      <th></th>\n",
       "      <th>base_mm</th>\n",
       "      <th>covid_new</th>\n",
       "      <th>income_CSI</th>\n",
       "      <th>con_CSI</th>\n",
       "      <th>base_ym</th>\n",
       "    </tr>\n",
       "  </thead>\n",
       "  <tbody>\n",
       "    <tr>\n",
       "      <th>0</th>\n",
       "      <td>2020/01</td>\n",
       "      <td>0</td>\n",
       "      <td>101</td>\n",
       "      <td>110</td>\n",
       "      <td></td>\n",
       "    </tr>\n",
       "    <tr>\n",
       "      <th>1</th>\n",
       "      <td>2020/02</td>\n",
       "      <td>0</td>\n",
       "      <td>97</td>\n",
       "      <td>106</td>\n",
       "      <td></td>\n",
       "    </tr>\n",
       "    <tr>\n",
       "      <th>2</th>\n",
       "      <td>2020/03</td>\n",
       "      <td>0</td>\n",
       "      <td>87</td>\n",
       "      <td>93</td>\n",
       "      <td></td>\n",
       "    </tr>\n",
       "    <tr>\n",
       "      <th>3</th>\n",
       "      <td>2020/04</td>\n",
       "      <td>979</td>\n",
       "      <td>83</td>\n",
       "      <td>87</td>\n",
       "      <td></td>\n",
       "    </tr>\n",
       "    <tr>\n",
       "      <th>4</th>\n",
       "      <td>2020/05</td>\n",
       "      <td>703</td>\n",
       "      <td>87</td>\n",
       "      <td>91</td>\n",
       "      <td></td>\n",
       "    </tr>\n",
       "  </tbody>\n",
       "</table>\n",
       "</div>"
      ],
      "text/plain": [
       "   base_mm  covid_new  income_CSI  con_CSI base_ym\n",
       "0  2020/01          0         101      110        \n",
       "1  2020/02          0          97      106        \n",
       "2  2020/03          0          87       93        \n",
       "3  2020/04        979          83       87        \n",
       "4  2020/05        703          87       91        "
      ]
     },
     "execution_count": 7,
     "metadata": {},
     "output_type": "execute_result"
    }
   ],
   "source": [
    "df_mg['base_ym'] = ''\n",
    "df_mg.head()"
   ]
  },
  {
   "cell_type": "code",
   "execution_count": 8,
   "metadata": {},
   "outputs": [
    {
     "name": "stderr",
     "output_type": "stream",
     "text": [
      "C:\\Users\\student\\AppData\\Local\\Temp\\ipykernel_3240\\3564739877.py:2: SettingWithCopyWarning: \n",
      "A value is trying to be set on a copy of a slice from a DataFrame\n",
      "\n",
      "See the caveats in the documentation: https://pandas.pydata.org/pandas-docs/stable/user_guide/indexing.html#returning-a-view-versus-a-copy\n",
      "  df_mg['base_ym'][i] = df_mg.base_mm[i][2:4]+'.'+df_mg.base_mm[i][5:7]\n"
     ]
    }
   ],
   "source": [
    "for i in range(len(df_mg)):\n",
    "    df_mg['base_ym'][i] = df_mg.base_mm[i][2:4]+'.'+df_mg.base_mm[i][5:7]\n",
    "    "
   ]
  },
  {
   "cell_type": "code",
   "execution_count": 9,
   "metadata": {},
   "outputs": [
    {
     "data": {
      "text/html": [
       "<div>\n",
       "<style scoped>\n",
       "    .dataframe tbody tr th:only-of-type {\n",
       "        vertical-align: middle;\n",
       "    }\n",
       "\n",
       "    .dataframe tbody tr th {\n",
       "        vertical-align: top;\n",
       "    }\n",
       "\n",
       "    .dataframe thead th {\n",
       "        text-align: right;\n",
       "    }\n",
       "</style>\n",
       "<table border=\"1\" class=\"dataframe\">\n",
       "  <thead>\n",
       "    <tr style=\"text-align: right;\">\n",
       "      <th></th>\n",
       "      <th>base_mm</th>\n",
       "      <th>covid_new</th>\n",
       "      <th>income_CSI</th>\n",
       "      <th>con_CSI</th>\n",
       "      <th>base_ym</th>\n",
       "    </tr>\n",
       "  </thead>\n",
       "  <tbody>\n",
       "    <tr>\n",
       "      <th>0</th>\n",
       "      <td>2020/01</td>\n",
       "      <td>0</td>\n",
       "      <td>101</td>\n",
       "      <td>110</td>\n",
       "      <td>20.01</td>\n",
       "    </tr>\n",
       "    <tr>\n",
       "      <th>1</th>\n",
       "      <td>2020/02</td>\n",
       "      <td>0</td>\n",
       "      <td>97</td>\n",
       "      <td>106</td>\n",
       "      <td>20.02</td>\n",
       "    </tr>\n",
       "    <tr>\n",
       "      <th>2</th>\n",
       "      <td>2020/03</td>\n",
       "      <td>0</td>\n",
       "      <td>87</td>\n",
       "      <td>93</td>\n",
       "      <td>20.03</td>\n",
       "    </tr>\n",
       "    <tr>\n",
       "      <th>3</th>\n",
       "      <td>2020/04</td>\n",
       "      <td>979</td>\n",
       "      <td>83</td>\n",
       "      <td>87</td>\n",
       "      <td>20.04</td>\n",
       "    </tr>\n",
       "    <tr>\n",
       "      <th>4</th>\n",
       "      <td>2020/05</td>\n",
       "      <td>703</td>\n",
       "      <td>87</td>\n",
       "      <td>91</td>\n",
       "      <td>20.05</td>\n",
       "    </tr>\n",
       "  </tbody>\n",
       "</table>\n",
       "</div>"
      ],
      "text/plain": [
       "   base_mm  covid_new  income_CSI  con_CSI base_ym\n",
       "0  2020/01          0         101      110   20.01\n",
       "1  2020/02          0          97      106   20.02\n",
       "2  2020/03          0          87       93   20.03\n",
       "3  2020/04        979          83       87   20.04\n",
       "4  2020/05        703          87       91   20.05"
      ]
     },
     "execution_count": 9,
     "metadata": {},
     "output_type": "execute_result"
    }
   ],
   "source": [
    "df_mg.head()"
   ]
  },
  {
   "cell_type": "code",
   "execution_count": 10,
   "metadata": {},
   "outputs": [
    {
     "data": {
      "text/html": [
       "<div>\n",
       "<style scoped>\n",
       "    .dataframe tbody tr th:only-of-type {\n",
       "        vertical-align: middle;\n",
       "    }\n",
       "\n",
       "    .dataframe tbody tr th {\n",
       "        vertical-align: top;\n",
       "    }\n",
       "\n",
       "    .dataframe thead th {\n",
       "        text-align: right;\n",
       "    }\n",
       "</style>\n",
       "<table border=\"1\" class=\"dataframe\">\n",
       "  <thead>\n",
       "    <tr style=\"text-align: right;\">\n",
       "      <th></th>\n",
       "      <th>base_mm</th>\n",
       "      <th>covid_new</th>\n",
       "      <th>income_CSI</th>\n",
       "      <th>con_CSI</th>\n",
       "    </tr>\n",
       "    <tr>\n",
       "      <th>base_ym</th>\n",
       "      <th></th>\n",
       "      <th></th>\n",
       "      <th></th>\n",
       "      <th></th>\n",
       "    </tr>\n",
       "  </thead>\n",
       "  <tbody>\n",
       "    <tr>\n",
       "      <th>20.01</th>\n",
       "      <td>2020/01</td>\n",
       "      <td>0</td>\n",
       "      <td>101</td>\n",
       "      <td>110</td>\n",
       "    </tr>\n",
       "    <tr>\n",
       "      <th>20.02</th>\n",
       "      <td>2020/02</td>\n",
       "      <td>0</td>\n",
       "      <td>97</td>\n",
       "      <td>106</td>\n",
       "    </tr>\n",
       "    <tr>\n",
       "      <th>20.03</th>\n",
       "      <td>2020/03</td>\n",
       "      <td>0</td>\n",
       "      <td>87</td>\n",
       "      <td>93</td>\n",
       "    </tr>\n",
       "    <tr>\n",
       "      <th>20.04</th>\n",
       "      <td>2020/04</td>\n",
       "      <td>979</td>\n",
       "      <td>83</td>\n",
       "      <td>87</td>\n",
       "    </tr>\n",
       "    <tr>\n",
       "      <th>20.05</th>\n",
       "      <td>2020/05</td>\n",
       "      <td>703</td>\n",
       "      <td>87</td>\n",
       "      <td>91</td>\n",
       "    </tr>\n",
       "    <tr>\n",
       "      <th>20.06</th>\n",
       "      <td>2020/06</td>\n",
       "      <td>1334</td>\n",
       "      <td>88</td>\n",
       "      <td>93</td>\n",
       "    </tr>\n",
       "    <tr>\n",
       "      <th>20.07</th>\n",
       "      <td>2020/07</td>\n",
       "      <td>1506</td>\n",
       "      <td>90</td>\n",
       "      <td>95</td>\n",
       "    </tr>\n",
       "    <tr>\n",
       "      <th>20.08</th>\n",
       "      <td>2020/08</td>\n",
       "      <td>5642</td>\n",
       "      <td>92</td>\n",
       "      <td>99</td>\n",
       "    </tr>\n",
       "    <tr>\n",
       "      <th>20.09</th>\n",
       "      <td>2020/09</td>\n",
       "      <td>3865</td>\n",
       "      <td>88</td>\n",
       "      <td>92</td>\n",
       "    </tr>\n",
       "    <tr>\n",
       "      <th>20.10</th>\n",
       "      <td>2020/10</td>\n",
       "      <td>2714</td>\n",
       "      <td>94</td>\n",
       "      <td>100</td>\n",
       "    </tr>\n",
       "  </tbody>\n",
       "</table>\n",
       "</div>"
      ],
      "text/plain": [
       "         base_mm  covid_new  income_CSI  con_CSI\n",
       "base_ym                                         \n",
       "20.01    2020/01          0         101      110\n",
       "20.02    2020/02          0          97      106\n",
       "20.03    2020/03          0          87       93\n",
       "20.04    2020/04        979          83       87\n",
       "20.05    2020/05        703          87       91\n",
       "20.06    2020/06       1334          88       93\n",
       "20.07    2020/07       1506          90       95\n",
       "20.08    2020/08       5642          92       99\n",
       "20.09    2020/09       3865          88       92\n",
       "20.10    2020/10       2714          94      100"
      ]
     },
     "execution_count": 10,
     "metadata": {},
     "output_type": "execute_result"
    }
   ],
   "source": [
    "df_mg.set_index('base_ym', inplace=True)           \n",
    "df_mg.head(10)"
   ]
  },
  {
   "cell_type": "code",
   "execution_count": null,
   "metadata": {},
   "outputs": [],
   "source": []
  },
  {
   "cell_type": "code",
   "execution_count": 12,
   "metadata": {},
   "outputs": [],
   "source": [
    "import seaborn as sns"
   ]
  },
  {
   "cell_type": "code",
   "execution_count": 18,
   "metadata": {},
   "outputs": [
    {
     "data": {
      "image/png": "[encoded data removed]",
      "text/plain": [
       "<Figure size 1080x288 with 2 Axes>"
      ]
     },
     "metadata": {},
     "output_type": "display_data"
    }
   ],
   "source": [
    "# 보조축 + 투명도\n",
    "plt.rcParams[\"figure.figsize\"] = [15,4]\n",
    "\n",
    "sns.set_color_codes(\"pastel\")\n",
    "sns.set_style(\"white\")\n",
    "\n",
    "plt.rcParams['font.family'] = 'Malgun Gothic' # 한글 폰트 적용\n",
    "\n",
    "fig, ax1 = plt.subplots()\n",
    "\n",
    "ax1.plot(df_mg.index, df_mg['income_CSI'], color='g', label='가계수입전망CSI')\n",
    "ax1.plot(df_mg.index, df_mg['con_CSI'], color='b', label='소비지출전망CSI')\n",
    "ax1.set_ylim(70, 130)\n",
    "\n",
    "ax1.legend(loc='best', fontsize=10, frameon=False)\n",
    "ax1.set_title('\\n 코로나 신규 확진자수 및 소비자 동향지수 추이 \\n', fontsize=20)\n",
    "\n",
    "ax2 = ax1.twinx()\n",
    "ax2.bar(df_mg.index,\n",
    "        df_mg['covid_new'],\n",
    "        color='red',\n",
    "        alpha=0.3,\n",
    "        width=0.8,\n",
    "        label='신규누적확진자수(월)')\n",
    "ax2.set_ylim(0, 13000000)\n",
    "\n",
    "ax2.legend(loc=2, fontsize=10, frameon=False)\n",
    "plt.xticks(df_mg.index,('20.1M','2M','3M','4M','5M','6M','7M','8M','9M','10M','11M','12M','21.1M','2M','3M','4M','5M','6M','7M','8M','9M','10M','11M','12M','22.1M','2M','3M','4M','5M'))\n",
    "\n",
    "plt.show()"
   ]
  },
  {
   "cell_type": "markdown",
   "metadata": {},
   "source": [
    "→ 코로나 확진자 수 : 20년 3월 코로나19 WHO 팬데믹 선언 이후 2022년 들어 크게 증가하기 시작하여 22년 3월 최고를 기록하고 현재 감소추세임"
   ]
  },
  {
   "cell_type": "markdown",
   "metadata": {},
   "source": [
    "가계수입전망CSI\n",
    "* 20년 3월 코로나19 WHO 팬데믹 선언 이후 100 아래에서 등락을 반복 / 21년 10월 100을 처음 넘어섰으나 다시 감소추세 나타남  \n",
    "  \n",
    "소비지출전망CSI  \n",
    "  - 20년 3월 코로나19 WHO 팬데믹 선언 이후 20년말까지 100 아래에서 등락을 반복 / 이후 100 이상에서 머무르며 상승추세 나타남  \n",
    "\n",
    "→ 수입에 대한 소비자의 전망은 좀더 지켜봐야하나, 지출에 대한 소비자 전망은 긍정적임을 의미함\n",
    "\n",
    "* (참고)소비자 동향 지수  \n",
    "매월 한국은행이 소비자의 경제상황에 대한 인식과 향후 소비지출전망 등을 조사하여 지수화한 것으로, 지수가 100보다 크면 경기 전망에 대한 긍정적 인식이 더 높다는 것을 의미"
   ]
  }
 ],
 "metadata": {
  "kernelspec": {
   "display_name": "Python 3 (ipykernel)",
   "language": "python",
   "name": "python3"
  },
  "language_info": {
   "codemirror_mode": {
    "name": "ipython",
    "version": 3
   },
   "file_extension": ".py",
   "mimetype": "text/x-python",
   "name": "python",
   "nbconvert_exporter": "python",
   "pygments_lexer": "ipython3",
   "version": "3.9.12"
  }
 },
 "nbformat": 4,
 "nbformat_minor": 4
}
