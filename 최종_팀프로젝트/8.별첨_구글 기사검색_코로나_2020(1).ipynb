{
 "cells": [
  {
   "cell_type": "markdown",
   "metadata": {},
   "source": [
    "## 코로나 업종 뉴스 기사 검색(1)"
   ]
  },
  {
   "cell_type": "code",
   "execution_count": 1,
   "metadata": {},
   "outputs": [],
   "source": [
    "from bs4 import BeautifulSoup\n",
    "from selenium import webdriver\n",
    "from selenium.webdriver.common.by import By\n",
    "from IPython.display import Image\n",
    "from datetime import datetime\n",
    "\n",
    "import pandas as pd\n",
    "import time\n",
    "import re\n"
   ]
  },
  {
   "cell_type": "markdown",
   "metadata": {},
   "source": [
    "### # 구글 뉴스 10페이지까지 크롤링"
   ]
  },
  {
   "cell_type": "code",
   "execution_count": 14,
   "metadata": {},
   "outputs": [
    {
     "name": "stderr",
     "output_type": "stream",
     "text": [
      "C:\\Users\\student\\AppData\\Local\\Temp\\ipykernel_6100\\3620293503.py:3: DeprecationWarning: executable_path has been deprecated, please pass in a Service object\n",
      "  driver = webdriver.Chrome(executable_path=driver_path)\n"
     ]
    }
   ],
   "source": [
    "# 웹드라이브로 크롬브라우즈 띄운다.\n",
    "driver_path = \"../driver/chromedriver.exe\"\n",
    "driver = webdriver.Chrome(executable_path=driver_path)"
   ]
  },
  {
   "cell_type": "code",
   "execution_count": 15,
   "metadata": {},
   "outputs": [],
   "source": [
    "url_page = 'https://www.google.com/'\n",
    "driver.get(url_page)"
   ]
  },
  {
   "cell_type": "code",
   "execution_count": 16,
   "metadata": {},
   "outputs": [],
   "source": [
    "# 검색창 검색어 입력\n",
    "css_selector = 'body > div.L3eUgb > div.o3j99.ikrT4e.om7nvf > form > div:nth-child(1) > div.A8SBwf > div.RNNXgb > div > div.a4bIc > input'\n",
    "driver.find_element(by=By.CSS_SELECTOR, value=css_selector).send_keys('코로나')"
   ]
  },
  {
   "cell_type": "code",
   "execution_count": 17,
   "metadata": {},
   "outputs": [],
   "source": [
    "# 검색클릭\n",
    "css_selector = 'body > div.L3eUgb > div.o3j99.ikrT4e.om7nvf > form > div:nth-child(1) > div.A8SBwf.emcav > div.UUbT9 > div.aajZCb > div.CqAVzb.lJ9FBc > center > input.gNO89b'\n",
    "driver.find_element(by=By.CSS_SELECTOR, value=css_selector).click()"
   ]
  },
  {
   "cell_type": "code",
   "execution_count": 19,
   "metadata": {},
   "outputs": [],
   "source": [
    "# 뉴스메뉴 클릭\n",
    "# css_selector = '#hdtb-msb > div:nth-child(1) > div > div:nth-child(3) > a'\n",
    "css_selector = '#hdtb-msb > div:nth-child(1) > div > div:nth-child(2) > a'\n",
    "driver.find_element(by=By.CSS_SELECTOR, value=css_selector).click()"
   ]
  },
  {
   "cell_type": "code",
   "execution_count": 20,
   "metadata": {},
   "outputs": [],
   "source": [
    "# 도구 메뉴 클릭\n",
    "css_selector = '#hdtb-tls'\n",
    "driver.find_element(by=By.CSS_SELECTOR, value=css_selector).click()"
   ]
  },
  {
   "cell_type": "code",
   "execution_count": 21,
   "metadata": {},
   "outputs": [],
   "source": [
    "# 최근항목 메뉴 클릭\n",
    "css_selector = '#tn_1 > span:nth-child(3) > g-popup > div.rIbAWc > div > div > div'\n",
    "driver.find_element(by=By.CSS_SELECTOR, value=css_selector).click()"
   ]
  },
  {
   "cell_type": "code",
   "execution_count": 22,
   "metadata": {},
   "outputs": [],
   "source": [
    "# 기간설정 메뉴 클릭\n",
    "css_selector = '#lb > div > g-menu > g-menu-item:nth-child(8) > div > div > span'\n",
    "driver.find_element(by=By.CSS_SELECTOR, value=css_selector).click()"
   ]
  },
  {
   "cell_type": "code",
   "execution_count": 23,
   "metadata": {},
   "outputs": [],
   "source": [
    "# 기간입력 창 시작일 입력\n",
    "css_selector = '#OouJcb'\n",
    "driver.find_element(by=By.CSS_SELECTOR, value=css_selector).send_keys('1/1/2020')"
   ]
  },
  {
   "cell_type": "code",
   "execution_count": 24,
   "metadata": {},
   "outputs": [],
   "source": [
    "# 기간입력 창 종료일 입력\n",
    "css_selector = '#rzG2be'\n",
    "driver.find_element(by=By.CSS_SELECTOR, value=css_selector).send_keys('12/31/2020')"
   ]
  },
  {
   "cell_type": "code",
   "execution_count": 25,
   "metadata": {},
   "outputs": [],
   "source": [
    "# 실행클릭\n",
    "css_selector = '#T3kYXe > g-button'\n",
    "driver.find_element(by=By.CSS_SELECTOR, value=css_selector).click()"
   ]
  },
  {
   "cell_type": "code",
   "execution_count": null,
   "metadata": {},
   "outputs": [],
   "source": []
  },
  {
   "cell_type": "code",
   "execution_count": 26,
   "metadata": {},
   "outputs": [],
   "source": [
    "dateTime = []\n",
    "newsTime = []\n",
    "newsTitle = []\n",
    "newsUrl =[]\n",
    "\n",
    "for i in range(1,11):\n",
    "    # 페이지 BeautifulSoup 객체로 가져온다\n",
    "    html = driver.page_source\n",
    "    soup = BeautifulSoup(html, \"lxml\")\n",
    "    news_tag = soup.find('div', 'v7W49e')\n",
    "    news_tag2 = news_tag.find_all('div', 'xuvV6b BGxR7d')\n",
    "\n",
    "    for idx in range(len(news_tag2)):\n",
    "        \n",
    "        date = str(datetime.now()) \n",
    "        date = date[:date.rfind(':')].replace(' ', '_') \n",
    "        date = date.replace(':','시') + '분' \n",
    "\n",
    "        # 기사시간    \n",
    "        newstime = news_tag2[idx].find('div', 'OSrXXb ZE0LJd').get_text().strip()\n",
    "\n",
    "        # 기사제목\n",
    "        newstitle = news_tag2[idx].find('div', 'mCBkyc y355M ynAwRc MBeuO nDgy9d').get_text().strip()    \n",
    "\n",
    "        # 기사URL\n",
    "        newsurl = news_tag2[idx].find('a')['href']    \n",
    "\n",
    "        dateTime.append(date)\n",
    "        newsTime.append(newstime)\n",
    "        newsTitle.append(newstitle)\n",
    "        newsUrl.append(newsurl)\n",
    "    \n",
    "    css_selector = '#pnnext > span:nth-child(2)'\n",
    "    driver.find_element(by=By.CSS_SELECTOR, value=css_selector).click()"
   ]
  },
  {
   "cell_type": "code",
   "execution_count": 27,
   "metadata": {},
   "outputs": [
    {
     "data": {
      "text/plain": [
       "(100, 100, 100, 100)"
      ]
     },
     "execution_count": 27,
     "metadata": {},
     "output_type": "execute_result"
    }
   ],
   "source": [
    "len(dateTime), len(newsTime), len(newsTitle), len(newsUrl)"
   ]
  },
  {
   "cell_type": "code",
   "execution_count": 28,
   "metadata": {},
   "outputs": [
    {
     "data": {
      "text/plain": [
       "['https://www.yna.co.kr/view/AKR20200220163551017',\n",
       " 'https://www.bbc.com/korean/news-51165909',\n",
       " 'https://www.bbc.com/korean/international-54883322',\n",
       " 'https://www.bbc.com/korean/news-51320986',\n",
       " 'https://www.bbc.com/korean/news-54969735',\n",
       " 'https://www.bbc.com/korean/news-51185669',\n",
       " 'https://health.chosun.com/site/data/html_dir/2020/03/12/2020031201240.html',\n",
       " 'https://m.hani.co.kr/arti/society/health/927116.html',\n",
       " 'https://www.bbc.com/korean/news-54383215',\n",
       " 'https://m.medigatenews.com/news/3536192729',\n",
       " 'https://www.bbc.com/korean/international-51411100',\n",
       " 'https://www.medigatenews.com/news/2807935156',\n",
       " 'https://www.bbc.com/korean/news-51352575',\n",
       " 'https://www.bbc.com/korean/international-51291964',\n",
       " 'https://www.yna.co.kr/view/AKR20200202042100062',\n",
       " 'https://www.bbc.com/korean/international-53482320',\n",
       " 'https://www.bbc.com/korean/international-51159499',\n",
       " 'https://www.bbc.com/korean/international-51485051',\n",
       " 'https://www.bbc.com/korean/news-53088613',\n",
       " 'https://www.doctorsnews.co.kr/news/articleView.html?idxno=133304',\n",
       " 'https://www.bbc.com/korean/news-51345656',\n",
       " 'http://www.chemicalnews.co.kr/news/articleView.html?idxno=1681',\n",
       " 'https://www.bbc.com/korean/international-55434829',\n",
       " 'https://m.dongascience.com/news.php?idx=34164',\n",
       " 'http://m.biospectator.com/view/news_view.php?varAtcId=10546',\n",
       " 'https://www.bbc.com/korean/international-51435128',\n",
       " 'https://www.bbc.com/korean/53038561',\n",
       " 'https://m.dongascience.com/news.php?idx=38031',\n",
       " 'https://www.bbc.com/korean/international-54504866',\n",
       " 'https://m.dongascience.com/news.php?idx=39752',\n",
       " 'https://www.bbc.com/korean/news-54231093',\n",
       " 'https://news.samsung.com/kr/%EC%82%BC%EC%84%B1-%EC%BD%94%EB%A1%9C%EB%82%9819-%EA%B7%B9%EB%B3%B5%EC%9D%84-%EC%9C%84%ED%95%B4-300%EC%96%B5%EC%9B%90-%EA%B8%B4%EA%B8%89-%EC%A7%80%EC%9B%90',\n",
       " 'https://www.bbc.com/korean/international-53083264',\n",
       " 'https://www.bbc.com/korean/news-52643388',\n",
       " 'https://m.medigatenews.com/news/3147548030',\n",
       " 'http://www.chemicalnews.co.kr/news/articleView.html?idxno=1732',\n",
       " 'https://www.bbc.com/korean/news-51701499',\n",
       " 'http://www.biotimes.co.kr/news/articleView.html?idxno=2502',\n",
       " 'https://www.bbc.com/korean/international-54431293',\n",
       " 'https://www.bbc.com/korean/news-51747848',\n",
       " 'https://m.medigatenews.com/news/1624144586',\n",
       " 'https://www.bbc.com/korean/international-54628257',\n",
       " 'https://news.kbs.co.kr/news/view.do?ncd=4484086',\n",
       " 'https://www.sciencetimes.co.kr/news/%EC%BD%94%EB%A1%9C%EB%82%9819-%EC%A4%91%EA%B5%AD%EB%B3%B4%EB%8B%A4-%EB%A8%BC%EC%A0%80-%EB%B0%9C%EC%83%9D%ED%95%9C-%EB%82%98%EB%9D%BC%EA%B0%80-%EC%9E%88%EB%8B%A4/',\n",
       " 'http://www.mdon.co.kr/news/article.html?no=25796',\n",
       " 'https://www.bbc.com/korean/51992966',\n",
       " 'https://m.dongascience.com/news.php?idx=33949',\n",
       " 'https://m.dongascience.com/news.php?idx=42633',\n",
       " 'https://www.sciencetimes.co.kr/news/%EC%95%88%EA%B2%BD%EB%8F%84-%EB%A7%88%EC%8A%A4%ED%81%AC%EC%B2%98%EB%9F%BC-%EC%BD%94%EB%A1%9C%EB%82%98-%EB%A7%89%EC%95%84%EC%A4%80%EB%8B%A4/',\n",
       " 'https://www.docdocdoc.co.kr/news/articleView.html?idxno=2000845',\n",
       " 'https://m.dongascience.com/news.php?idx=40610',\n",
       " 'https://www.bbc.com/korean/news-51669332',\n",
       " 'https://m.dongascience.com/news.php?idx=34539',\n",
       " 'https://m.health.chosun.com/svc/news_view.html?contid=2020030402195',\n",
       " 'https://www.bbc.com/korean/news-52570152',\n",
       " 'https://www.hani.co.kr/arti/society/society_general/926540.html',\n",
       " 'https://www.bbc.com/korean/international-55257029',\n",
       " 'https://www.yna.co.kr/view/AKR20200913020200074',\n",
       " 'https://www.bbc.com/korean/international-55374437',\n",
       " 'https://www.bbc.com/korean/news-51694432',\n",
       " 'https://m.dongascience.com/news.php?idx=34877',\n",
       " 'https://m.medigatenews.com/news/1469862223',\n",
       " 'https://www.bbc.com/korean/international-51470169',\n",
       " 'https://www.yna.co.kr/view/AKR20201107036900054',\n",
       " 'https://www.bbc.com/korean/news-52030488',\n",
       " 'https://m.dongascience.com/news.php?idx=35973',\n",
       " 'https://www.bbc.com/korean/news-51602241',\n",
       " 'https://www.docdocdoc.co.kr/news/articleView.html?idxno=1076920',\n",
       " 'https://www.bbc.com/korean/news-51502361',\n",
       " 'https://www.bbc.com/korean/news-52408875',\n",
       " 'https://www.bbc.com/korean/news-51541002',\n",
       " 'https://m.medigatenews.com/news/1935020680',\n",
       " 'https://www.bbc.com/korean/international-51275642',\n",
       " 'https://m.dongascience.com/news.php?idx=34646',\n",
       " 'https://m.dongascience.com/news.php?idx=40584',\n",
       " 'https://www.bbc.com/korean/international-53674562',\n",
       " 'https://www.bbc.com/korean/news-52541729',\n",
       " 'https://www.bbc.com/korean/international-51382126',\n",
       " 'https://m.dongascience.com/news.php?idx=33894',\n",
       " 'https://m.health.chosun.com/svc/news_view.html?contid=2020022603366',\n",
       " 'https://www.bbc.com/korean/international-55039723',\n",
       " 'https://m.medigatenews.com/news/937115719',\n",
       " 'https://www.bbc.com/korean/news-51716431',\n",
       " 'https://m.lawtimes.co.kr/Content/Opinion?serial=159842',\n",
       " 'https://www.bbc.com/korean/news-53461071',\n",
       " 'https://www.bbc.com/korean/international-54201461',\n",
       " 'https://m.dongascience.com/news.php?idx=36044',\n",
       " 'https://www.sciencetimes.co.kr/news/ibs-%EC%BD%94%EB%A1%9C%EB%82%9819-%EC%9D%8C%EC%84%B1-%EC%97%AC%EB%B6%80-4%EC%8B%9C%EA%B0%84-%EB%A7%8C%EC%97%90-%ED%8C%90%EB%B3%84%ED%95%98%EB%8A%94-%EB%B0%A9%EB%B2%95-%EA%B0%9C%EB%B0%9C/',\n",
       " 'https://www.bbc.com/korean/news-51748358',\n",
       " 'https://www.bbc.com/korean/international-53161007',\n",
       " 'https://www.bbc.com/korean/news-52540746',\n",
       " 'https://m.dongascience.com/news.php?idx=39697',\n",
       " 'https://www.sciencetimes.co.kr/news/%EC%BD%94%EB%A1%9C%EB%82%9819-%EB%B9%84%EA%B4%80%EC%A0%81-%EC%8B%9C%EB%82%98%EB%A6%AC%EC%98%A4-%EB%8C%80%EB%B9%84%ED%95%B4%EC%95%BC/',\n",
       " 'https://www.hani.co.kr/arti/international/arabafrica/929583.html',\n",
       " 'https://m.dongascience.com/news.php?idx=34202',\n",
       " 'https://m.medigatenews.com/news/2084312404',\n",
       " 'https://www.bbc.com/korean/news-52657873',\n",
       " 'https://www.bbc.com/korean/international-53830696',\n",
       " 'https://m.medigatenews.com/news/2746973250',\n",
       " 'https://www.bbc.com/korean/international-54392257']"
      ]
     },
     "execution_count": 28,
     "metadata": {},
     "output_type": "execute_result"
    }
   ],
   "source": [
    "newsUrl"
   ]
  },
  {
   "cell_type": "markdown",
   "metadata": {},
   "source": [
    "### # 가져온 데이터를 데이터프레임으로 정라한 후, 파일로 저장하기"
   ]
  },
  {
   "cell_type": "code",
   "execution_count": 29,
   "metadata": {},
   "outputs": [],
   "source": [
    "data = {'오늘날짜':dateTime, '기사시점':newsTime, '기사제목':newsTitle, 'URL':newsUrl}\n",
    "df = pd.DataFrame(data)"
   ]
  },
  {
   "cell_type": "code",
   "execution_count": 30,
   "metadata": {},
   "outputs": [
    {
     "data": {
      "text/html": [
       "<div>\n",
       "<style scoped>\n",
       "    .dataframe tbody tr th:only-of-type {\n",
       "        vertical-align: middle;\n",
       "    }\n",
       "\n",
       "    .dataframe tbody tr th {\n",
       "        vertical-align: top;\n",
       "    }\n",
       "\n",
       "    .dataframe thead th {\n",
       "        text-align: right;\n",
       "    }\n",
       "</style>\n",
       "<table border=\"1\" class=\"dataframe\">\n",
       "  <thead>\n",
       "    <tr style=\"text-align: right;\">\n",
       "      <th></th>\n",
       "      <th>오늘날짜</th>\n",
       "      <th>기사시점</th>\n",
       "      <th>기사제목</th>\n",
       "      <th>URL</th>\n",
       "    </tr>\n",
       "  </thead>\n",
       "  <tbody>\n",
       "    <tr>\n",
       "      <th>0</th>\n",
       "      <td>2022-06-21_14시51분</td>\n",
       "      <td>2020. 2. 20.</td>\n",
       "      <td>코로나19 국내 첫 사망자 발생…63세 남성 사후 확진(종합)</td>\n",
       "      <td>https://www.yna.co.kr/view/AKR20200220163551017</td>\n",
       "    </tr>\n",
       "    <tr>\n",
       "      <th>1</th>\n",
       "      <td>2022-06-21_14시51분</td>\n",
       "      <td>2020. 1. 20.</td>\n",
       "      <td>우한 폐렴: 코로나바이러스 국내 첫 확진자 발생...현재까지 확인된 감염자 200명 넘어</td>\n",
       "      <td>https://www.bbc.com/korean/news-51165909</td>\n",
       "    </tr>\n",
       "    <tr>\n",
       "      <th>2</th>\n",
       "      <td>2022-06-21_14시51분</td>\n",
       "      <td>2020. 11. 10.</td>\n",
       "      <td>코로나 백신: 90% 넘는 효능 보여준 새로운 백신이 넘어야 할 난관들</td>\n",
       "      <td>https://www.bbc.com/korean/international-54883322</td>\n",
       "    </tr>\n",
       "    <tr>\n",
       "      <th>3</th>\n",
       "      <td>2022-06-21_14시51분</td>\n",
       "      <td>2020. 1. 31.</td>\n",
       "      <td>신종 코로나바이러스: 11번째 환자 확인...현재까지 확진 사례 정리</td>\n",
       "      <td>https://www.bbc.com/korean/news-51320986</td>\n",
       "    </tr>\n",
       "    <tr>\n",
       "      <th>4</th>\n",
       "      <td>2022-06-21_14시51분</td>\n",
       "      <td>2020. 11. 17.</td>\n",
       "      <td>코로나19 백신: 모더나, '코로나 백신 94.5% 예방 효과'</td>\n",
       "      <td>https://www.bbc.com/korean/news-54969735</td>\n",
       "    </tr>\n",
       "    <tr>\n",
       "      <th>5</th>\n",
       "      <td>2022-06-21_14시51분</td>\n",
       "      <td>2020. 1. 21.</td>\n",
       "      <td>우한 폐렴: 신종 코로나바이러스는 무엇이며 얼마나 위험한가?</td>\n",
       "      <td>https://www.bbc.com/korean/news-51185669</td>\n",
       "    </tr>\n",
       "    <tr>\n",
       "      <th>6</th>\n",
       "      <td>2022-06-21_14시51분</td>\n",
       "      <td>2020. 3. 12.</td>\n",
       "      <td>WHO, 코로나19 세계적 대유행 '팬데믹' 선언</td>\n",
       "      <td>https://health.chosun.com/site/data/html_dir/2...</td>\n",
       "    </tr>\n",
       "    <tr>\n",
       "      <th>7</th>\n",
       "      <td>2022-06-21_14시51분</td>\n",
       "      <td>2020. 2. 5.</td>\n",
       "      <td>신종 코로나 19번째 확진자 발생…17번 환자와 같은 곳 방문</td>\n",
       "      <td>https://m.hani.co.kr/arti/society/health/92711...</td>\n",
       "    </tr>\n",
       "    <tr>\n",
       "      <th>8</th>\n",
       "      <td>2022-06-21_14시51분</td>\n",
       "      <td>2020. 10. 2.</td>\n",
       "      <td>코로나19: 대선 한달여 앞두고 트럼프 확진 판정</td>\n",
       "      <td>https://www.bbc.com/korean/news-54383215</td>\n",
       "    </tr>\n",
       "    <tr>\n",
       "      <th>9</th>\n",
       "      <td>2022-06-21_14시51분</td>\n",
       "      <td>2020. 12. 27.</td>\n",
       "      <td>MEDI:GATE NEWS : 국내서 코로나19 백신 5개, 치료제 15개 ...</td>\n",
       "      <td>https://m.medigatenews.com/news/3536192729</td>\n",
       "    </tr>\n",
       "  </tbody>\n",
       "</table>\n",
       "</div>"
      ],
      "text/plain": [
       "                오늘날짜           기사시점  \\\n",
       "0  2022-06-21_14시51분   2020. 2. 20.   \n",
       "1  2022-06-21_14시51분   2020. 1. 20.   \n",
       "2  2022-06-21_14시51분  2020. 11. 10.   \n",
       "3  2022-06-21_14시51분   2020. 1. 31.   \n",
       "4  2022-06-21_14시51분  2020. 11. 17.   \n",
       "5  2022-06-21_14시51분   2020. 1. 21.   \n",
       "6  2022-06-21_14시51분   2020. 3. 12.   \n",
       "7  2022-06-21_14시51분    2020. 2. 5.   \n",
       "8  2022-06-21_14시51분   2020. 10. 2.   \n",
       "9  2022-06-21_14시51분  2020. 12. 27.   \n",
       "\n",
       "                                                기사제목  \\\n",
       "0                 코로나19 국내 첫 사망자 발생…63세 남성 사후 확진(종합)   \n",
       "1  우한 폐렴: 코로나바이러스 국내 첫 확진자 발생...현재까지 확인된 감염자 200명 넘어   \n",
       "2            코로나 백신: 90% 넘는 효능 보여준 새로운 백신이 넘어야 할 난관들   \n",
       "3             신종 코로나바이러스: 11번째 환자 확인...현재까지 확진 사례 정리   \n",
       "4                코로나19 백신: 모더나, '코로나 백신 94.5% 예방 효과'   \n",
       "5                  우한 폐렴: 신종 코로나바이러스는 무엇이며 얼마나 위험한가?   \n",
       "6                        WHO, 코로나19 세계적 대유행 '팬데믹' 선언   \n",
       "7                 신종 코로나 19번째 확진자 발생…17번 환자와 같은 곳 방문   \n",
       "8                        코로나19: 대선 한달여 앞두고 트럼프 확진 판정   \n",
       "9      MEDI:GATE NEWS : 국내서 코로나19 백신 5개, 치료제 15개 ...   \n",
       "\n",
       "                                                 URL  \n",
       "0    https://www.yna.co.kr/view/AKR20200220163551017  \n",
       "1           https://www.bbc.com/korean/news-51165909  \n",
       "2  https://www.bbc.com/korean/international-54883322  \n",
       "3           https://www.bbc.com/korean/news-51320986  \n",
       "4           https://www.bbc.com/korean/news-54969735  \n",
       "5           https://www.bbc.com/korean/news-51185669  \n",
       "6  https://health.chosun.com/site/data/html_dir/2...  \n",
       "7  https://m.hani.co.kr/arti/society/health/92711...  \n",
       "8           https://www.bbc.com/korean/news-54383215  \n",
       "9         https://m.medigatenews.com/news/3536192729  "
      ]
     },
     "execution_count": 30,
     "metadata": {},
     "output_type": "execute_result"
    }
   ],
   "source": [
    "df.head(10)"
   ]
  },
  {
   "cell_type": "markdown",
   "metadata": {},
   "source": [
    "### # 웹파싱한 데이터 파일로 저장하기"
   ]
  },
  {
   "cell_type": "code",
   "execution_count": 31,
   "metadata": {},
   "outputs": [],
   "source": [
    "df.to_csv('data/covid_2020.csv', sep=',', encoding='UTF-8')"
   ]
  },
  {
   "cell_type": "code",
   "execution_count": null,
   "metadata": {},
   "outputs": [],
   "source": []
  }
 ],
 "metadata": {
  "kernelspec": {
   "display_name": "Python 3 (ipykernel)",
   "language": "python",
   "name": "python3"
  },
  "language_info": {
   "codemirror_mode": {
    "name": "ipython",
    "version": 3
   },
   "file_extension": ".py",
   "mimetype": "text/x-python",
   "name": "python",
   "nbconvert_exporter": "python",
   "pygments_lexer": "ipython3",
   "version": "3.9.12"
  }
 },
 "nbformat": 4,
 "nbformat_minor": 4
}
