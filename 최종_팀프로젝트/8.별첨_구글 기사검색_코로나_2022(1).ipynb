{
 "cells": [
  {
   "cell_type": "markdown",
   "metadata": {},
   "source": [
    "## 코로나 업종 뉴스 기사 검색(1)"
   ]
  },
  {
   "cell_type": "code",
   "execution_count": 1,
   "metadata": {},
   "outputs": [],
   "source": [
    "from bs4 import BeautifulSoup\n",
    "from selenium import webdriver\n",
    "from selenium.webdriver.common.by import By\n",
    "from IPython.display import Image\n",
    "from datetime import datetime\n",
    "\n",
    "import pandas as pd\n",
    "import time\n",
    "import re\n"
   ]
  },
  {
   "cell_type": "markdown",
   "metadata": {},
   "source": [
    "### # 구글 뉴스 10페이지까지 크롤링"
   ]
  },
  {
   "cell_type": "code",
   "execution_count": 2,
   "metadata": {},
   "outputs": [
    {
     "name": "stderr",
     "output_type": "stream",
     "text": [
      "C:\\Users\\student\\AppData\\Local\\Temp\\ipykernel_10252\\3620293503.py:3: DeprecationWarning: executable_path has been deprecated, please pass in a Service object\n",
      "  driver = webdriver.Chrome(executable_path=driver_path)\n"
     ]
    }
   ],
   "source": [
    "# 웹드라이브로 크롬브라우즈 띄운다.\n",
    "driver_path = \"../driver/chromedriver.exe\"\n",
    "driver = webdriver.Chrome(executable_path=driver_path)"
   ]
  },
  {
   "cell_type": "code",
   "execution_count": 4,
   "metadata": {},
   "outputs": [],
   "source": [
    "url_page = 'https://www.google.com/'\n",
    "driver.get(url_page)"
   ]
  },
  {
   "cell_type": "code",
   "execution_count": 5,
   "metadata": {},
   "outputs": [],
   "source": [
    "# 검색창 검색어 입력\n",
    "css_selector = 'body > div.L3eUgb > div.o3j99.ikrT4e.om7nvf > form > div:nth-child(1) > div.A8SBwf > div.RNNXgb > div > div.a4bIc > input'\n",
    "driver.find_element(by=By.CSS_SELECTOR, value=css_selector).send_keys('코로나')"
   ]
  },
  {
   "cell_type": "code",
   "execution_count": 6,
   "metadata": {},
   "outputs": [],
   "source": [
    "# 검색클릭\n",
    "css_selector = 'body > div.L3eUgb > div.o3j99.ikrT4e.om7nvf > form > div:nth-child(1) > div.A8SBwf.emcav > div.UUbT9 > div.aajZCb > div.CqAVzb.lJ9FBc > center > input.gNO89b'\n",
    "driver.find_element(by=By.CSS_SELECTOR, value=css_selector).click()"
   ]
  },
  {
   "cell_type": "code",
   "execution_count": 7,
   "metadata": {},
   "outputs": [],
   "source": [
    "# 뉴스메뉴 클릭\n",
    "# css_selector = '#hdtb-msb > div:nth-child(1) > div > div:nth-child(3) > a'\n",
    "css_selector = '#hdtb-msb > div:nth-child(1) > div > div:nth-child(2) > a'\n",
    "driver.find_element(by=By.CSS_SELECTOR, value=css_selector).click()"
   ]
  },
  {
   "cell_type": "code",
   "execution_count": 8,
   "metadata": {},
   "outputs": [],
   "source": [
    "# 도구 메뉴 클릭\n",
    "css_selector = '#hdtb-tls'\n",
    "driver.find_element(by=By.CSS_SELECTOR, value=css_selector).click()"
   ]
  },
  {
   "cell_type": "code",
   "execution_count": 9,
   "metadata": {},
   "outputs": [],
   "source": [
    "# 최근항목 메뉴 클릭\n",
    "css_selector = '#tn_1 > span:nth-child(3) > g-popup > div.rIbAWc > div > div > div'\n",
    "driver.find_element(by=By.CSS_SELECTOR, value=css_selector).click()"
   ]
  },
  {
   "cell_type": "code",
   "execution_count": 10,
   "metadata": {},
   "outputs": [],
   "source": [
    "# 기간설정 메뉴 클릭\n",
    "css_selector = '#lb > div > g-menu > g-menu-item:nth-child(8) > div > div > span'\n",
    "driver.find_element(by=By.CSS_SELECTOR, value=css_selector).click()"
   ]
  },
  {
   "cell_type": "code",
   "execution_count": 11,
   "metadata": {},
   "outputs": [],
   "source": [
    "# 기간입력 창 시작일 입력\n",
    "css_selector = '#OouJcb'\n",
    "driver.find_element(by=By.CSS_SELECTOR, value=css_selector).send_keys('1/1/2022')"
   ]
  },
  {
   "cell_type": "code",
   "execution_count": 12,
   "metadata": {},
   "outputs": [],
   "source": [
    "# 기간입력 창 종료일 입력\n",
    "css_selector = '#rzG2be'\n",
    "driver.find_element(by=By.CSS_SELECTOR, value=css_selector).send_keys('6/20/2022')"
   ]
  },
  {
   "cell_type": "code",
   "execution_count": 13,
   "metadata": {},
   "outputs": [],
   "source": [
    "# 실행클릭\n",
    "css_selector = '#T3kYXe > g-button'\n",
    "driver.find_element(by=By.CSS_SELECTOR, value=css_selector).click()"
   ]
  },
  {
   "cell_type": "code",
   "execution_count": null,
   "metadata": {},
   "outputs": [],
   "source": []
  },
  {
   "cell_type": "code",
   "execution_count": 14,
   "metadata": {},
   "outputs": [],
   "source": [
    "dateTime = []\n",
    "newsTime = []\n",
    "newsTitle = []\n",
    "newsUrl =[]\n",
    "\n",
    "for i in range(1,11):\n",
    "    # 페이지 BeautifulSoup 객체로 가져온다\n",
    "    html = driver.page_source\n",
    "    soup = BeautifulSoup(html, \"lxml\")\n",
    "    news_tag = soup.find('div', 'v7W49e')\n",
    "    news_tag2 = news_tag.find_all('div', 'xuvV6b BGxR7d')\n",
    "\n",
    "    for idx in range(len(news_tag2)):\n",
    "        \n",
    "        date = str(datetime.now()) \n",
    "        date = date[:date.rfind(':')].replace(' ', '_') \n",
    "        date = date.replace(':','시') + '분' \n",
    "\n",
    "        # 기사시간    \n",
    "        newstime = news_tag2[idx].find('div', 'OSrXXb ZE0LJd').get_text().strip()\n",
    "\n",
    "        # 기사제목\n",
    "        newstitle = news_tag2[idx].find('div', 'mCBkyc y355M ynAwRc MBeuO nDgy9d').get_text().strip()    \n",
    "\n",
    "        # 기사URL\n",
    "        newsurl = news_tag2[idx].find('a')['href']    \n",
    "\n",
    "        dateTime.append(date)\n",
    "        newsTime.append(newstime)\n",
    "        newsTitle.append(newstitle)\n",
    "        newsUrl.append(newsurl)\n",
    "    \n",
    "    css_selector = '#pnnext > span:nth-child(2)'\n",
    "    driver.find_element(by=By.CSS_SELECTOR, value=css_selector).click()"
   ]
  },
  {
   "cell_type": "code",
   "execution_count": 15,
   "metadata": {},
   "outputs": [
    {
     "data": {
      "text/plain": [
       "(100, 100, 100, 100)"
      ]
     },
     "execution_count": 15,
     "metadata": {},
     "output_type": "execute_result"
    }
   ],
   "source": [
    "len(dateTime), len(newsTime), len(newsTitle), len(newsUrl)"
   ]
  },
  {
   "cell_type": "code",
   "execution_count": 16,
   "metadata": {},
   "outputs": [
    {
     "data": {
      "text/plain": [
       "['https://www.bbc.com/korean/news-61419559',\n",
       " 'https://www.dailynk.com/20220512-3/',\n",
       " 'https://www.hani.co.kr/arti/politics/defense/1042573.html',\n",
       " 'https://m.korea.kr/news/policyNewsView.do?newsId=148900512',\n",
       " 'https://m.dongascience.com/news.php?idx=54921',\n",
       " 'https://m.korea.kr/news/visualNewsView.do?newsId=148900179',\n",
       " 'https://www.bbc.com/korean/news-61447405',\n",
       " 'https://www.docdocdoc.co.kr/news/articleView.html?idxno=2022352',\n",
       " 'https://www.korea.kr/special/policyFocusView.do?newsId=148898600&pkgId=49500742',\n",
       " 'https://www.hani.co.kr/arti/politics/politics_general/1042778.html',\n",
       " 'https://m.dongascience.com/news.php?idx=54263',\n",
       " 'https://www.hani.co.kr/arti/society/health/1045955.html',\n",
       " 'https://www.bbc.com/korean/news-61548319',\n",
       " 'https://www.korea.kr/special/policyFocusView.do?newsId=148899962&pkgId=49500742',\n",
       " 'https://m.dongascience.com/news.php?idx=54922',\n",
       " 'https://www.bbc.com/korean/international-60454915',\n",
       " 'https://www.korea.kr/special/policyFocusView.do?newsId=148900807&pkgId=49500742',\n",
       " 'https://m.dongascience.com/news.php?idx=53249',\n",
       " 'https://m.dongascience.com/news.php?idx=53503',\n",
       " 'https://m.dongascience.com/news.php?idx=53457',\n",
       " 'https://m.dongascience.com/news.php?idx=53815',\n",
       " 'http://www.monews.co.kr/news/articleView.html?idxno=312008',\n",
       " 'https://m.health.chosun.com/svc/news_view.html?contid=2022042501007',\n",
       " 'https://www.korea.kr/special/policyFocusView.do?newsId=148902022&pkgId=49500742',\n",
       " 'https://www.voakorea.com/a/6579627.html',\n",
       " 'https://www.hani.co.kr/arti/society/health/1042627.html',\n",
       " 'https://www.bbc.com/korean/news-61089784',\n",
       " 'https://www.bbc.com/korean/international-60049138',\n",
       " 'https://www.bbc.com/korean/news-61206642',\n",
       " 'https://m.korea.kr/news/policyNewsView.do?newsId=148899373',\n",
       " 'https://m.korea.kr/news/policyNewsView.do?newsId=148900413',\n",
       " 'https://m.hani.co.kr/arti/society/health/1041000.html',\n",
       " 'https://www.bbc.com/korean/news-61454930',\n",
       " 'https://m.dongascience.com/news.php?idx=54731',\n",
       " 'https://www.voakorea.com/a/6559425.html',\n",
       " 'https://m.dongascience.com/news.php?idx=54857',\n",
       " 'https://www.bbc.com/korean/news-60717988',\n",
       " 'https://www.hani.co.kr/arti/society/health/1046954.html',\n",
       " 'https://www.korea.kr/special/policyFocusView.do?newsId=148900400&pkgId=49500742',\n",
       " 'https://www.korea.kr/special/policyFocusView.do?newsId=148900720&pkgId=49500742',\n",
       " 'https://www.hani.co.kr/arti/international/international_general/1031112.html',\n",
       " 'https://m.korea.kr/news/pressReleaseView.do?newsId=156508215',\n",
       " 'https://m.dongascience.com/news.php?idx=54680',\n",
       " 'https://www.yna.co.kr/view/AKR20220128163800005',\n",
       " 'https://www.korea.kr/special/policyFocusView.do?newsId=148900401&pkgId=49500742',\n",
       " 'https://www.korea.kr/special/policyFocusView.do?newsId=148899885&pkgId=49500742',\n",
       " 'https://m.dongascience.com/news.php?idx=54876',\n",
       " 'https://www.docdocdoc.co.kr/news/articleView.html?idxno=2023601',\n",
       " 'https://www.korea.kr/special/policyFocusView.do?newsId=148900384&pkgId=49500742',\n",
       " 'https://www.korea.kr/special/policyFocusView.do?newsId=148900576&pkgId=49500742',\n",
       " 'https://m.dongascience.com/news.php?idx=53921',\n",
       " 'https://www.hani.co.kr/arti/international/international_general/1042371.html',\n",
       " 'https://m.dongascience.com/news.php?idx=51888',\n",
       " 'https://www.bbc.com/korean/news-61688687',\n",
       " 'https://www.korea.kr/news/pressReleaseView.do?newsId=156490972',\n",
       " 'https://www.korea.kr/special/policyFocusView.do?newsId=148901526&pkgId=49500742&pWise=sub&pWiseSub=B13',\n",
       " 'https://www.bbc.com/korean/60936699',\n",
       " 'https://www.bbc.com/korean/international-60063962',\n",
       " 'https://www.hani.co.kr/arti/politics/politics_general/1029737.html',\n",
       " 'https://m.dongascience.com/news.php?idx=54111',\n",
       " 'https://www.yna.co.kr/view/AKR20220131039000005',\n",
       " 'https://imnews.imbc.com/news/2022/politics/article/6375464_35666.html',\n",
       " 'https://www.korea.kr/news/policyNewsView.do?newsId=148901560',\n",
       " 'https://m.dongascience.com/news.php?idx=54794',\n",
       " 'https://www.hani.co.kr/arti/society/health/1030412.html',\n",
       " 'https://www.bbc.com/korean/international-61408333',\n",
       " 'https://www.hani.co.kr/arti/society/society_general/1029921.html',\n",
       " 'https://www.hani.co.kr/arti/economy/economy_general/1034880.html',\n",
       " 'https://m.korea.kr/news/policyNewsView.do?newsId=148901125',\n",
       " 'https://www.voakorea.com/a/6575961.html',\n",
       " 'https://www.hani.co.kr/arti/international/international_general/1030347.html',\n",
       " 'https://www.voakorea.com/a/6623732.html',\n",
       " 'https://m.hani.co.kr/arti/society/health/1041583.html',\n",
       " 'https://www.bbc.com/korean/international-60413859',\n",
       " 'https://m.dongascience.com/news.php?idx=54167',\n",
       " 'https://www.dongascience.com/news.php?idx=54896',\n",
       " 'https://www.bbc.com/korean/international-59949881',\n",
       " 'https://m.korea.kr/news/policyNewsView.do?newsId=148900494',\n",
       " 'https://www.docdocdoc.co.kr/news/articleView.html?idxno=2022773',\n",
       " 'https://m.dongascience.com/news.php?idx=53087',\n",
       " 'https://www.hani.co.kr/arti/area/jeju/1034608.html',\n",
       " 'https://imnews.imbc.com/news/2022/world/article/6338226_35680.html',\n",
       " 'https://m.dongascience.com/news.php?idx=53862',\n",
       " 'https://www.docdocdoc.co.kr/news/articleView.html?idxno=2020547',\n",
       " 'https://m.dongascience.com/news.php?idx=53530',\n",
       " 'https://m.dongascience.com/news.php?idx=54772',\n",
       " 'https://www.korea.kr/special/policyFocusView.do?newsId=148901926&pkgId=49500742',\n",
       " 'https://www.voakorea.com/a/6427887.html',\n",
       " 'https://m.dongascience.com/news.php?idx=54225',\n",
       " 'https://m.dongascience.com/news.php?idx=53450',\n",
       " 'https://www.docdocdoc.co.kr/news/articleView.html?idxno=2019233',\n",
       " 'https://www.yna.co.kr/view/AKR20220207147600005',\n",
       " 'https://www.bbc.com/korean/60900150',\n",
       " 'https://www.hankyung.com/international/article/2022022719397',\n",
       " 'https://news.kbs.co.kr/news/view.do?ncd=5428849',\n",
       " 'https://www.hani.co.kr/arti/society/health/1043012.html',\n",
       " 'https://www.docdocdoc.co.kr/news/articleView.html?idxno=2018432',\n",
       " 'https://m.dongascience.com/news.php?idx=53059',\n",
       " 'https://health.chosun.com/site/data/html_dir/2022/04/04/2022040401518.html',\n",
       " 'https://www.docdocdoc.co.kr/news/articleView.html?idxno=2020537']"
      ]
     },
     "execution_count": 16,
     "metadata": {},
     "output_type": "execute_result"
    }
   ],
   "source": [
    "newsUrl"
   ]
  },
  {
   "cell_type": "markdown",
   "metadata": {},
   "source": [
    "### # 가져온 데이터를 데이터프레임으로 정라한 후, 파일로 저장하기"
   ]
  },
  {
   "cell_type": "code",
   "execution_count": 17,
   "metadata": {},
   "outputs": [],
   "source": [
    "data = {'오늘날짜':dateTime, '기사시점':newsTime, '기사제목':newsTitle, 'URL':newsUrl}\n",
    "df = pd.DataFrame(data)"
   ]
  },
  {
   "cell_type": "code",
   "execution_count": 18,
   "metadata": {},
   "outputs": [
    {
     "data": {
      "text/html": [
       "<div>\n",
       "<style scoped>\n",
       "    .dataframe tbody tr th:only-of-type {\n",
       "        vertical-align: middle;\n",
       "    }\n",
       "\n",
       "    .dataframe tbody tr th {\n",
       "        vertical-align: top;\n",
       "    }\n",
       "\n",
       "    .dataframe thead th {\n",
       "        text-align: right;\n",
       "    }\n",
       "</style>\n",
       "<table border=\"1\" class=\"dataframe\">\n",
       "  <thead>\n",
       "    <tr style=\"text-align: right;\">\n",
       "      <th></th>\n",
       "      <th>오늘날짜</th>\n",
       "      <th>기사시점</th>\n",
       "      <th>기사제목</th>\n",
       "      <th>URL</th>\n",
       "    </tr>\n",
       "  </thead>\n",
       "  <tbody>\n",
       "    <tr>\n",
       "      <th>0</th>\n",
       "      <td>2022-06-21_15시08분</td>\n",
       "      <td>1개월 전</td>\n",
       "      <td>북한 '평양에 오미크론 발생'...코로나 2년만에 첫 감염자 인정, 왜 지금?</td>\n",
       "      <td>https://www.bbc.com/korean/news-61419559</td>\n",
       "    </tr>\n",
       "    <tr>\n",
       "      <th>1</th>\n",
       "      <td>2022-06-21_15시08분</td>\n",
       "      <td>1개월 전</td>\n",
       "      <td>北, 국내 코로나 감염자 발생 사실 밝혀…확진 공식 인정한 첫 사례</td>\n",
       "      <td>https://www.dailynk.com/20220512-3/</td>\n",
       "    </tr>\n",
       "    <tr>\n",
       "      <th>2</th>\n",
       "      <td>2022-06-21_15시08분</td>\n",
       "      <td>1개월 전</td>\n",
       "      <td>2년 넘게 '0명 감염' 주장한 북한, 코로나19 확진자 첫 공식 발표</td>\n",
       "      <td>https://www.hani.co.kr/arti/politics/defense/1...</td>\n",
       "    </tr>\n",
       "    <tr>\n",
       "      <th>3</th>\n",
       "      <td>2022-06-21_15시08분</td>\n",
       "      <td>2022. 4. 6.</td>\n",
       "      <td>5월부터 국제선 하늘길 활짝…연말까지 코로나 이전의 50% 회복</td>\n",
       "      <td>https://m.korea.kr/news/policyNewsView.do?news...</td>\n",
       "    </tr>\n",
       "    <tr>\n",
       "      <th>4</th>\n",
       "      <td>2022-06-21_15시08분</td>\n",
       "      <td>4일 전</td>\n",
       "      <td>\"격리 풀면 코로나19 재확산 앞당길수도\"…7일 격리의무 4주 연장</td>\n",
       "      <td>https://m.dongascience.com/news.php?idx=54921</td>\n",
       "    </tr>\n",
       "    <tr>\n",
       "      <th>5</th>\n",
       "      <td>2022-06-21_15시08분</td>\n",
       "      <td>2022. 3. 25.</td>\n",
       "      <td>[Q&amp;A] 소아 코로나19 예방접종 궁금해요! - 기초편</td>\n",
       "      <td>https://m.korea.kr/news/visualNewsView.do?news...</td>\n",
       "    </tr>\n",
       "    <tr>\n",
       "      <th>6</th>\n",
       "      <td>2022-06-21_15시08분</td>\n",
       "      <td>1개월 전</td>\n",
       "      <td>북한 코로나: 하루 17만 확진·21명 사망…김정은 '건국 이래 대동란'</td>\n",
       "      <td>https://www.bbc.com/korean/news-61447405</td>\n",
       "    </tr>\n",
       "    <tr>\n",
       "      <th>7</th>\n",
       "      <td>2022-06-21_15시08분</td>\n",
       "      <td>1개월 전</td>\n",
       "      <td>의협 “코로나19 종식 아니다…마스크 해제 시기상조” &lt; 기관 ...</td>\n",
       "      <td>https://www.docdocdoc.co.kr/news/articleView.h...</td>\n",
       "    </tr>\n",
       "    <tr>\n",
       "      <th>8</th>\n",
       "      <td>2022-06-21_15시08분</td>\n",
       "      <td>2022. 1. 28.</td>\n",
       "      <td>2월 3일부터 동네병원서 코로나 '검사부터 치료까지' 한 번에</td>\n",
       "      <td>https://www.korea.kr/special/policyFocusView.d...</td>\n",
       "    </tr>\n",
       "    <tr>\n",
       "      <th>9</th>\n",
       "      <td>2022-06-21_15시08분</td>\n",
       "      <td>1개월 전</td>\n",
       "      <td>윤 대통령 “'감염 폭증' 북한에 코로나 백신 지원하겠다”</td>\n",
       "      <td>https://www.hani.co.kr/arti/politics/politics_...</td>\n",
       "    </tr>\n",
       "  </tbody>\n",
       "</table>\n",
       "</div>"
      ],
      "text/plain": [
       "                오늘날짜          기사시점  \\\n",
       "0  2022-06-21_15시08분         1개월 전   \n",
       "1  2022-06-21_15시08분         1개월 전   \n",
       "2  2022-06-21_15시08분         1개월 전   \n",
       "3  2022-06-21_15시08분   2022. 4. 6.   \n",
       "4  2022-06-21_15시08분          4일 전   \n",
       "5  2022-06-21_15시08분  2022. 3. 25.   \n",
       "6  2022-06-21_15시08분         1개월 전   \n",
       "7  2022-06-21_15시08분         1개월 전   \n",
       "8  2022-06-21_15시08분  2022. 1. 28.   \n",
       "9  2022-06-21_15시08분         1개월 전   \n",
       "\n",
       "                                          기사제목  \\\n",
       "0  북한 '평양에 오미크론 발생'...코로나 2년만에 첫 감염자 인정, 왜 지금?   \n",
       "1        北, 국내 코로나 감염자 발생 사실 밝혀…확진 공식 인정한 첫 사례   \n",
       "2      2년 넘게 '0명 감염' 주장한 북한, 코로나19 확진자 첫 공식 발표   \n",
       "3          5월부터 국제선 하늘길 활짝…연말까지 코로나 이전의 50% 회복   \n",
       "4        \"격리 풀면 코로나19 재확산 앞당길수도\"…7일 격리의무 4주 연장   \n",
       "5              [Q&A] 소아 코로나19 예방접종 궁금해요! - 기초편   \n",
       "6     북한 코로나: 하루 17만 확진·21명 사망…김정은 '건국 이래 대동란'   \n",
       "7       의협 “코로나19 종식 아니다…마스크 해제 시기상조” < 기관 ...   \n",
       "8           2월 3일부터 동네병원서 코로나 '검사부터 치료까지' 한 번에   \n",
       "9             윤 대통령 “'감염 폭증' 북한에 코로나 백신 지원하겠다”   \n",
       "\n",
       "                                                 URL  \n",
       "0           https://www.bbc.com/korean/news-61419559  \n",
       "1                https://www.dailynk.com/20220512-3/  \n",
       "2  https://www.hani.co.kr/arti/politics/defense/1...  \n",
       "3  https://m.korea.kr/news/policyNewsView.do?news...  \n",
       "4      https://m.dongascience.com/news.php?idx=54921  \n",
       "5  https://m.korea.kr/news/visualNewsView.do?news...  \n",
       "6           https://www.bbc.com/korean/news-61447405  \n",
       "7  https://www.docdocdoc.co.kr/news/articleView.h...  \n",
       "8  https://www.korea.kr/special/policyFocusView.d...  \n",
       "9  https://www.hani.co.kr/arti/politics/politics_...  "
      ]
     },
     "execution_count": 18,
     "metadata": {},
     "output_type": "execute_result"
    }
   ],
   "source": [
    "df.head(10)"
   ]
  },
  {
   "cell_type": "markdown",
   "metadata": {},
   "source": [
    "### # 웹파싱한 데이터 파일로 저장하기"
   ]
  },
  {
   "cell_type": "code",
   "execution_count": 19,
   "metadata": {},
   "outputs": [],
   "source": [
    "df.to_csv('data/covid_2022.csv', sep=',', encoding='UTF-8')"
   ]
  },
  {
   "cell_type": "code",
   "execution_count": null,
   "metadata": {},
   "outputs": [],
   "source": []
  }
 ],
 "metadata": {
  "kernelspec": {
   "display_name": "Python 3 (ipykernel)",
   "language": "python",
   "name": "python3"
  },
  "language_info": {
   "codemirror_mode": {
    "name": "ipython",
    "version": 3
   },
   "file_extension": ".py",
   "mimetype": "text/x-python",
   "name": "python",
   "nbconvert_exporter": "python",
   "pygments_lexer": "ipython3",
   "version": "3.9.12"
  }
 },
 "nbformat": 4,
 "nbformat_minor": 4
}
